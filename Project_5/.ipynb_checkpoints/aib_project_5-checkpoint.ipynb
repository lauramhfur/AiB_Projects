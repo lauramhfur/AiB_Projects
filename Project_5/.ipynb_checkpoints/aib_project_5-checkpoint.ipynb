{
 "cells": [
  {
   "cell_type": "markdown",
   "id": "59739126",
   "metadata": {},
   "source": [
    "### Group 8\n",
    "- Nimrod Grandpierre\n",
    "- Jonas Riber Jørgensen\n",
    "- Johan Ulstrup\n",
    "- Laura Fur"
   ]
  },
  {
   "cell_type": "markdown",
   "id": "87975f9b",
   "metadata": {},
   "source": [
    "# Project 5: NJ tree construction\n",
    "This project is about making an efficient implementation of the neighbor-joining (NJ) algorithm as shown on slide 50 in the slides about tree reconstruction and compare its performance to the NJ programs QuickTree and RapidNJ that you know from project 4.\n",
    "\n",
    "## Problem\n",
    "You should make a program that implements the NJ algorithm as shown in the slides about tree reconstruction. Your program program should take a distance matrix in phylip-format as input and produce a tree in newick-format as output. You should know these formats from project 4. Your aim is to make your implementation as efficient as possible.\n",
    "\n",
    "The file example_slide4.phy contains the distance matrix (in phylip-format) from slide 4 in the slides about tree reconstruction. With this matrix as input, your program should produce the tree that is also shown on slide 4 in the slides about tree reconstruction."
   ]
  },
  {
   "cell_type": "code",
   "execution_count": 1,
   "id": "fb29b9be",
   "metadata": {},
   "outputs": [],
   "source": [
    "from Bio import Phylo\n",
    "from read_phylip import *\n",
    "import pandas as pd\n",
    "import matplotlib.pyplot as plt\n",
    "import numpy as np"
   ]
  },
  {
   "cell_type": "code",
   "execution_count": null,
   "id": "4976fb65",
   "metadata": {},
   "outputs": [],
   "source": [
    "scoreMatrix = initiate_scoring_matrix('score_matrix.txt')"
   ]
  },
  {
   "cell_type": "markdown",
   "id": "4b93d325",
   "metadata": {},
   "source": [
    "## Experiments\n",
    "From project 4, you know the programs QuickTree and RapidNJ that are implementations of the NJ methods. QuickTree implements the basic cubic time algorithm while RapidNJ implements an algorithm the is faster in practice.\n",
    "\n",
    "You should compare the performance of your program against these two program in the following way.\n",
    "\n",
    "The archive unique_distance_matrices.zip contains 14 distance matrices (in phylip-format) ranging in size from 89 to 1849 species. For each distance matrix, you should do the following:\n",
    "\n",
    "1. Measure the time it takes to construct the corresponding NJ tree using QuickTree, RapidNJ, and your program.\n",
    "2. Compute the RF-distances (using your program rfdist from project 4) between the trees produced by QuickTree, RapidNJ, and your program.\n",
    "\n",
    "(If you want to investigate the running time of your program on more examples than provided in distance_matrices.zip, then you are welcome to download pfam_alignments.zip that contains 128 of alignment in Stockholm-format (from the Pfam database) aligning from 58 to 71535 species that you can convert to distance matrices in phylip-format using e.g. QuickTree. However, converting the big alignments to distance matrices would probably take too long and require too much space.)"
   ]
  },
  {
   "cell_type": "code",
   "execution_count": null,
   "id": "90a65a32",
   "metadata": {},
   "outputs": [],
   "source": []
  }
 ],
 "metadata": {
  "kernelspec": {
   "display_name": "Python 3 (ipykernel)",
   "language": "python",
   "name": "python3"
  },
  "language_info": {
   "codemirror_mode": {
    "name": "ipython",
    "version": 3
   },
   "file_extension": ".py",
   "mimetype": "text/x-python",
   "name": "python",
   "nbconvert_exporter": "python",
   "pygments_lexer": "ipython3",
   "version": "3.11.5"
  }
 },
 "nbformat": 4,
 "nbformat_minor": 5
}
