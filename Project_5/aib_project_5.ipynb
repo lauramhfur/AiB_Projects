{
 "cells": [
  {
   "cell_type": "markdown",
   "id": "59739126",
   "metadata": {},
   "source": [
    "### Group 8\n",
    "- Nimrod Grandpierre\n",
    "- Jonas Riber Jørgensen\n",
    "- Johan Ulstrup\n",
    "- Laura Fur"
   ]
  },
  {
   "cell_type": "markdown",
   "id": "87975f9b",
   "metadata": {},
   "source": [
    "# Project 5: NJ tree construction\n",
    "This project is about making an efficient implementation of the neighbor-joining (NJ) algorithm as shown on slide 50 in the slides about tree reconstruction and compare its performance to the NJ programs QuickTree and RapidNJ that you know from project 4.\n",
    "\n",
    "## <span style=\"color:cornflowerblue\">Problem<span/>\n",
    "You should make a program that implements the NJ algorithm as shown in the slides about tree reconstruction. Your program program should take a distance matrix in phylip-format as input and produce a tree in newick-format as output. You should know these formats from project 4. Your aim is to make your implementation as efficient as possible.\n",
    "\n",
    "The file example_slide4.phy contains the distance matrix (in phylip-format) from slide 4 in the slides about tree reconstruction. With this matrix as input, your program should produce the tree that is also shown on slide 4 in the slides about tree reconstruction."
   ]
  },
  {
   "cell_type": "code",
   "execution_count": 15,
   "id": "fb29b9be",
   "metadata": {},
   "outputs": [],
   "source": [
    "import pandas as pd\n",
    "import numpy as np\n",
    "from read_phylip import *\n",
    "from correct_DM import *\n",
    "from write_newick import newick\n",
    "import os\n",
    "from io import StringIO\n",
    "from Bio import Phylo\n",
    "import copy"
   ]
  },
  {
   "cell_type": "markdown",
   "id": "17606748",
   "metadata": {},
   "source": [
    "### Implementation"
   ]
  },
  {
   "cell_type": "code",
   "execution_count": 3,
   "id": "f288da7f",
   "metadata": {},
   "outputs": [],
   "source": [
    "def compute_N(S, DM):\n",
    "    N = copy.deepcopy(DM)\n",
    "\n",
    "    dij = {seq_i: DM[seq_i] for seq_i in DM.keys()}\n",
    "    ri = {seq_i: round((1/(len(S)-2)) * np.sum(distances_i), 2) for i, (seq_i, distances_i) in enumerate(DM.items()) for j in range(len(distances_i)) if i != j}\n",
    "    \n",
    "    for i, seq_i in enumerate(DM.keys()):\n",
    "        for j, seq_j in enumerate(DM.keys()):\n",
    "            if i != j:\n",
    "                N[seq_i][j] = dij[seq_i][j] - (ri[seq_i] + ri[seq_j])\n",
    "            else:\n",
    "                N[seq_i][j] = 0\n",
    "    return N"
   ]
  },
  {
   "cell_type": "code",
   "execution_count": 18,
   "id": "72d23022",
   "metadata": {},
   "outputs": [],
   "source": [
    "def NJ(DM: dict, S: list) -> dict:\n",
    "\n",
    "    Clusters = {}\n",
    "\n",
    "    while len(S) > 3:\n",
    "\n",
    "        def Cluster(DM, S):\n",
    "            nonlocal Clusters\n",
    "\n",
    "            print(f'/33]1m/33]96mSequences left to process:/33]0m {len(S)}')\n",
    "\n",
    "            N = compute_N(S, DM)\n",
    "\n",
    "            \"\"\" Finding pair to cluster \"\"\" \n",
    "            minDistances = {i: min((distance, idx) for idx, distance in enumerate(row) if distance != 0.0) for i, row in N.items()}  # Finding the shortest distance and its index for each cluster in N.\n",
    "            C1 = min(minDistances, key = lambda k: minDistances[k][0])          # Cluster 1 is the cluster with the shortest distance among all clusters' minimum distances.\n",
    "            C2idx = minDistances[C1][1] \n",
    "            C2 = S[C2idx]\n",
    "\n",
    "            k = (C1, C2)\n",
    "\n",
    "            \"\"\" Calculating distance to common node: \"\"\"\n",
    "            ri = {seq_i: round((1 / (len(DM) - 2)) * np.sum(DM_i), 2) for i, (seq_i, DM_i) in enumerate(DM.items()) for j in range(len(DM_i)) if i != j}\n",
    "            \n",
    "            diu = round(0.5 * DM[C1][C2idx] + 0.5 * (ri[C1] - ri[C2]), 2)      # Distance from cluster 1 in k to common node.\n",
    "            dju = round(DM[C1][C2idx] - diu, 2)                                # Distance from cluster 2 in k to common node.\n",
    "\n",
    "            \"\"\" Adding k and edges, (i, k) and (j, k) \"\"\"\n",
    "            if C1 in Clusters:\n",
    "                if C2 not in Clusters:\n",
    "                    Clusters[k] = {C1: Clusters[C1], 'u': diu, C2: dju}\n",
    "                    del Clusters[C1]\n",
    "\n",
    "            elif C1 not in Clusters:\n",
    "                if C2 in Clusters:\n",
    "                    Clusters[k] = {C1: diu, C2: Clusters[C2], 'u': dju}\n",
    "                    del Clusters[C2]\n",
    "            \n",
    "            elif C1 in Clusters:\n",
    "                if C2 in Clusters:\n",
    "                    Clusters[k] = {C1: Clusters[C1], 'u': diu, C2: Clusters[C2], 'u': dju}\n",
    "                    del Clusters[C1]\n",
    "                    del Clusters[C2]\n",
    "\n",
    "            if k not in Clusters:    \n",
    "                Clusters[k] = {C1: diu, C2: dju}\n",
    "            \n",
    "            \"\"\" Calculating distances from k to other clusters \"\"\"\n",
    "            dijk = {}\n",
    "            for i, seq_i in enumerate(DM.keys()):\n",
    "                if seq_i not in (C1, C2):\n",
    "                    dik = DM[C1][i]\n",
    "                    djk = DM[C2][i]\n",
    "                    dij = DM[C1][C2idx]\n",
    "                    dijk[seq_i] = round(0.5 * (dik + djk - dij), 2)\n",
    "                dijk[k] = 0\n",
    "\n",
    "            \"\"\" Update distance matrix \"\"\"\n",
    "            UDM = {seq: dists.copy() for seq, dists in DM.items()}\n",
    "\n",
    "            UDM[k] = UDM.pop(C1)\n",
    "            del UDM[C2] \n",
    "            \n",
    "            for seq, dists in UDM.items():\n",
    "                        UDM[seq] = np.delete(dists, list(DM.keys()).index(C2))\n",
    "\n",
    "            DM_ids = {seq_i: i for i, seq_i in enumerate(DM.keys())}             # Getting cluster indices in the input distance matrix.\n",
    "\n",
    "            for i, seq_i in enumerate(UDM.keys()):\n",
    "                if seq_i != k:\n",
    "                    for j, seq_j in enumerate(UDM.keys()):\n",
    "                        if seq_j != seq_i:\n",
    "                            if seq_j == k:\n",
    "                                UDM[seq_i][j] = dijk[seq_i]                      # Distance from cluster to k.\n",
    "                            if seq_j != k:\n",
    "                                UDM[seq_i][j] = DM[seq_i][DM_ids[seq_j]]         # Distance from cluster to other clusters that are not k.\n",
    "                        if seq_j == seq_i:\n",
    "                            UDM[seq_i][j] = 0                                    # Distance from cluster to itself - always 0.\n",
    "                if seq_i == k:\n",
    "                    for j, seq_j in enumerate(UDM.keys()):\n",
    "                        UDM[seq_i][j] = dijk[seq_j]                              # Distances from k to other clusters.\n",
    "\n",
    "            \"\"\" Update taxa \"\"\"\n",
    "            S.remove(C1)\n",
    "            S.remove(C2)\n",
    "            S.append(k)\n",
    "\n",
    "            return UDM, S\n",
    "        \n",
    "        clustered = Cluster(DM, S)\n",
    "        DM = clustered[0]\n",
    "        S = clustered[1]\n",
    "\n",
    "    \"\"\" Termination \"\"\"\n",
    "    i, j, m = S\n",
    "\n",
    "    idx_i = list(DM.keys()).index(i)\n",
    "    idx_j = list(DM.keys()).index(j)\n",
    "    idx_m = list(DM.keys()).index(m)\n",
    "\n",
    "    gamma_vi = round((DM[i][idx_j] + DM[i][idx_m] - DM[j][idx_m])/2, 3)\n",
    "    gamma_vj = round((DM[j][idx_i] + DM[j][idx_m] - DM[i][idx_m])/2, 3)\n",
    "    gamma_vm = round((DM[m][idx_i] + DM[m][idx_j] - DM[i][idx_j])/2, 3)\n",
    "\n",
    "    Clusters[(i, j)] = {i: gamma_vi, j: gamma_vj}\n",
    "    Clusters['v'] = gamma_vm\n",
    "\n",
    "    return Clusters"
   ]
  },
  {
   "cell_type": "markdown",
   "id": "e0f6fc3e",
   "metadata": {},
   "source": [
    "#### ```NJ()```\n",
    "\n",
    "Follows the steps from Saitou and Nei's Neighbor-Joining algorithm."
   ]
  },
  {
   "cell_type": "markdown",
   "id": "3e5efdd1",
   "metadata": {},
   "source": [
    "## <span style = 'color:cornflowerblue'>Tests<span/>"
   ]
  },
  {
   "cell_type": "markdown",
   "id": "dd5f27ee",
   "metadata": {},
   "source": [
    "Provided testdata with five sequences from ```example_slide4.phy```"
   ]
  },
  {
   "cell_type": "code",
   "execution_count": 5,
   "id": "b3357b3a",
   "metadata": {},
   "outputs": [
    {
     "data": {
      "text/plain": [
       "'(A:0.08,(B:0.1,D:0.07):0.05,(C:0.05,E:0.06):0.03);'"
      ]
     },
     "execution_count": 5,
     "metadata": {},
     "output_type": "execute_result"
    }
   ],
   "source": [
    "ex_slide4 = initiate_DM('example_slide4.phy')\n",
    "ex_slide4_taxa = [i for i in ex_slide4]\n",
    "\n",
    "ex_out = NJ(DM = ex_slide4, S = ex_slide4_taxa)\n",
    "ex_out"
   ]
  },
  {
   "cell_type": "markdown",
   "id": "4b93d325",
   "metadata": {},
   "source": [
    "## <span style = 'color:cornflowerblue'>Experiments<span/>\n",
    "From project 4, you know the programs QuickTree and RapidNJ that are implementations of the NJ methods. QuickTree implements the basic cubic time algorithm while RapidNJ implements an algorithm the is faster in practice.\n",
    "\n",
    "You should compare the performance of your program against these two program in the following way.\n",
    "\n",
    "The archive unique_distance_matrices.zip contains 14 distance matrices (in phylip-format) ranging in size from 89 to 1849 species. For each distance matrix, you should do the following:\n",
    "\n",
    "1. Measure the time it takes to construct the corresponding NJ tree using QuickTree, RapidNJ, and your program.\n",
    "2. Compute the RF-distances (using your program rfdist from project 4) between the trees produced by QuickTree, RapidNJ, and your program.\n",
    "\n",
    "(If you want to investigate the running time of your program on more examples than provided in distance_matrices.zip, then you are welcome to download pfam_alignments.zip that contains 128 of alignment in Stockholm-format (from the Pfam database) aligning from 58 to 71535 species that you can convert to distance matrices in phylip-format using e.g. QuickTree. However, converting the big alignments to distance matrices would probably take too long and require too much space.)"
   ]
  },
  {
   "cell_type": "code",
   "execution_count": 7,
   "id": "a023acf8",
   "metadata": {},
   "outputs": [],
   "source": [
    "uniqueDistMatrices = sorted([file for file in os.listdir('unique_distance_matrices')], key = lambda x: int(x.split('_')[0]))"
   ]
  },
  {
   "cell_type": "code",
   "execution_count": 23,
   "id": "4f3f0b45",
   "metadata": {},
   "outputs": [],
   "source": [
    "treedata = initiate_DM(f'unique_distance_matrices/{uniqueDistMatrices[-1]}')\n",
    "taxa = [i for i in treedata.keys()]\n",
    "\n",
    "clusters = NJ(treedata, taxa)"
   ]
  }
 ],
 "metadata": {
  "kernelspec": {
   "display_name": "Python 3 (ipykernel)",
   "language": "python",
   "name": "python3"
  },
  "language_info": {
   "codemirror_mode": {
    "name": "ipython",
    "version": 3
   },
   "file_extension": ".py",
   "mimetype": "text/x-python",
   "name": "python",
   "nbconvert_exporter": "python",
   "pygments_lexer": "ipython3",
   "version": "3.11.7"
  }
 },
 "nbformat": 4,
 "nbformat_minor": 5
}
