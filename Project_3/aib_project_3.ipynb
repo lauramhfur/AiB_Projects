{
 "cells": [
  {
   "cell_type": "code",
   "execution_count": 1,
   "id": "f28327f2",
   "metadata": {},
   "outputs": [],
   "source": [
    "from typing import Sequence\n",
    "import pandas as pd\n",
    "import itertools\n",
    "from extend_msa import msa\n",
    "from nw import nw\n",
    "from read_fasta import read_fasta\n"
   ]
  },
  {
   "cell_type": "markdown",
   "id": "eac768cd",
   "metadata": {},
   "source": [
    "Parameters:"
   ]
  },
  {
   "cell_type": "code",
   "execution_count": 2,
   "id": "a34ba30f",
   "metadata": {},
   "outputs": [],
   "source": [
    "scoreMatrix = {\n",
    "    'A': {'A': 0, 'C': 5, 'G': 2, 'T': 5, '-': 5, 'N': 5, 'R': 5, 'S': 5},\n",
    "    'C': {'A': 5, 'C': 0, 'G': 5, 'T': 2, '-': 5, 'N': 5, 'R': 5, 'S': 5},\n",
    "    'G': {'A': 2, 'C': 5, 'G': 0, 'T': 5, '-': 5, 'N': 5, 'R': 5, 'S': 5},\n",
    "    'T': {'A': 5, 'C': 2, 'G': 5, 'T': 0, '-': 5, 'N': 5, 'R': 5, 'S': 5},\n",
    "    '-': {'A': 5, 'C': 5, 'G': 5, 'T': 5, '-': 0, 'N': 5, 'R': 5, 'S': 5},\n",
    "    'N': {'A': 5, 'C': 5, 'G': 5, 'T': 5, '-': 5, 'N': 5, 'R': 5, 'S': 5},\n",
    "    'R': {'A': 5, 'C': 5, 'G': 5, 'T': 5, '-': 5, 'N': 5, 'R': 5, 'S': 5},\n",
    "    'S': {'A': 5, 'C': 5, 'G': 5, 'T': 5, '-': 5, 'N': 5, 'R': 5, 'S': 5}\n",
    "}\n",
    "\n",
    "gapCost = 5"
   ]
  },
  {
   "cell_type": "markdown",
   "id": "e7448c27",
   "metadata": {},
   "source": [
    "### 2-approximation algorithm implementation"
   ]
  },
  {
   "cell_type": "code",
   "execution_count": 5,
   "id": "84fc8f3e",
   "metadata": {},
   "outputs": [],
   "source": [
    "def sp_approx(sequences: Sequence, score_matrix: dict, gap_cost: int) -> list[list]:\n",
    "\n",
    "    \"\"\" Part 1: Initializing the MSA \"\"\"\n",
    "    print(f'\\033[1mPart 1: Initializing the MSA\\033[0m\\n')\n",
    "\n",
    "    seq_names = list(sequences.keys())\n",
    "    alignments = {}\n",
    "\n",
    "    \"\"\" a) Finding center sequence from distance matrix and average distances \"\"\"\n",
    "    print(f'\\t\\033[1ma) Finding center sequence from distance matrix and average distances\\033[0m\\n')\n",
    "\n",
    "    # Distance matrix\n",
    "    distanceMatrix = [[0] * len(seq_names) for _ in range(len(seq_names))]\n",
    "\n",
    "    for i, seq_i in enumerate(seq_names):\n",
    "        for j, seq_j in enumerate(seq_names):\n",
    "            seqA = sequences[seq_i]\n",
    "            seqB = sequences[seq_j]\n",
    "\n",
    "            alignment = nw(seqA, seqB, score_matrix, gap_cost)\n",
    "            distanceMatrix[i][j] = alignment[2] # the distance is in the 2nd position in the ouput from NW()\n",
    "\n",
    "            # Saving the full output from NW() for later\n",
    "            if seq_i != seq_j and i < j:\n",
    "                alignments[(seq_i, seq_j)] = alignment\n",
    "    \n",
    "    print(f'Alignments and scores: {alignments}\\n')\n",
    "    print(f'       \\033[1mDistance matrix\\033[0m\\n{pd.DataFrame(distanceMatrix, index = list(seq_names), columns = list(seq_names))}\\n')\n",
    "\n",
    "    # Average distance from sequences to all other sequences\n",
    "    avgDist = {}\n",
    "\n",
    "    for i, seq_name in enumerate(seq_names):\n",
    "        avg_distance = sum(distanceMatrix[i]) / len(distanceMatrix[i])\n",
    "        avgDist[seq_name] = round(avg_distance, 2)\n",
    "\n",
    "    print(f'Average sequence distances to other sequences: {avgDist}\\n')\n",
    "\n",
    "    ## Getting the center sequence - i.e., the sequence that is, on average, most similar to all other sequences\n",
    "    centerSeq_name = min(avgDist, key = avgDist.get)\n",
    "\n",
    "    print(f'Center sequence: {centerSeq_name}\\n')\n",
    "\n",
    "    \"\"\" b) Initializing alignment with the most similar sequences, with the center sequence in the first row \"\"\"\n",
    "    print(f'\\t\\033[1mb) Initializing alignment with the most similar sequences, with the center sequence in the first row\\033[0m\\n')\n",
    "\n",
    "    # Finding the first pair of sequences in the alignment - i.e., the sequences that are most similar\n",
    "    firstPair_name = min(alignments, key = lambda k: alignments[k][2])\n",
    "\n",
    "    M = []\n",
    "\n",
    "    if firstPair_name[0] == centerSeq_name: # Case: the center sequence is the FIRST sequence in the pair-tuple\n",
    "        M.append(alignments[firstPair_name][0])\n",
    "        M.append(alignments[firstPair_name][1])\n",
    "\n",
    "    else: # Case: the center sequence is the SECOND sequence in the pair-tuple\n",
    "        M.append(alignments[firstPair_name][1])\n",
    "        M.append(alignments[firstPair_name][0])\n",
    "\n",
    "    M = list(map(list, zip(*M))) # creating list of columns\n",
    "\n",
    "    print(f'First pair: {firstPair_name}\\n')\n",
    "    print(f'Initialized alignment, M: {M}\\n\\n')\n",
    "\n",
    "    \"\"\" Part 2: Computing the multiple sequence alignment using the 2-approximation algorithm, given in the extend_msa.py file \"\"\"\n",
    "    print(f'\\033[1mPart 2: Computing the multiple sequence alignment using the extend_msa.py file\\033[0m\\n')\n",
    "\n",
    "    # Progressive MSA\n",
    "    MA = []\n",
    "\n",
    "    for i in alignments:\n",
    "        A = []\n",
    "        if i != firstPair_name and centerSeq_name in i: # Only looking at pairs that are not the first pair (which we already have) and sequences aligned with the center sequence\n",
    "            if i[0] == centerSeq_name: # Case: the center sequence is the FIRST sequence in the pair-tuple\n",
    "                A.append(alignments[i][0])\n",
    "                A.append(alignments[i][1])\n",
    "            \n",
    "            else: # Case: the center sequence is the SECOND sequence in the pair-tuple\n",
    "                A.append(alignments[i][1])\n",
    "                A.append(alignments[i][0])\n",
    "\n",
    "            A = list(map(list, zip(*A))) # creating list of columns\n",
    "            MA = msa(M, A)\n",
    "\n",
    "    MSA = ([''.join(column) for column in zip(*MA)])\n",
    "\n",
    "    print(f'MSA: {MSA}\\n\\n')\n",
    "\n",
    "    \"\"\" Part 3: Getting the SP score from the sum of columns \"\"\"\n",
    "    print(f'\\033[1mPart 3: Getting the SP score from the sum of columns\\033[0m\\n')\n",
    "\n",
    "    SP_score = []\n",
    "    \n",
    "    for i in MA:\n",
    "        combs = list(itertools.combinations(i, 2))\n",
    "        for pair in combs:\n",
    "            score = score_matrix[pair[0]][pair[1]]\n",
    "            SP_score.append(score)\n",
    "\n",
    "    print(f'Approximate SP score: {sum(SP_score)}')\n",
    "\n",
    "    return MSA, sum(SP_score)"
   ]
  },
  {
   "cell_type": "code",
   "execution_count": 8,
   "id": "ca176fb8",
   "metadata": {},
   "outputs": [
    {
     "name": "stdout",
     "output_type": "stream",
     "text": [
      "\u001b[1mPart 1: Initializing the MSA\u001b[0m\n",
      "\n",
      "\t\u001b[1ma) Finding center sequence from distance matrix and average distances\u001b[0m\n",
      "\n",
      "Alignments and scores: {('brca1_bos_taurus', 'brca1_canis_lupus'): (['A', 'T', 'G', 'G', 'A', 'T', 'T', 'T', 'A', 'T', 'C', 'T', 'G', 'C', 'G', 'G', 'A', 'T', 'C', 'A', 'T', 'G', 'T', 'T', 'G', 'A', 'A', 'G', 'A', 'A', 'G', 'T', 'A', 'C', 'A', 'A', 'A', 'A', 'T', 'G', 'T', 'C', 'C', 'T', 'C', 'A', 'A', 'T', 'G', 'C', 'T', 'A', 'T', 'G', 'C', 'A', 'G', 'A', 'A', 'A', 'A', 'T', 'C', 'T', 'T', 'A', 'G', 'A', 'G', 'T', 'G', 'T', 'C', 'C', 'A', 'A', 'T', 'A', 'T', 'G', 'T', 'C', 'T', 'G', 'G', 'A', 'G', 'T', 'T', 'G', 'A', 'T', 'C', 'A', 'A', 'A', 'G', 'A', 'G', 'C', 'C', 'T', 'G', 'T', 'C', 'T', 'C', 'T', 'A', 'C', 'A', 'A', 'A', 'G', 'T', 'G', 'T', 'G', 'A', 'C', 'C', 'A', 'C', 'A', 'T', 'A', 'T', 'T', 'T', 'T', 'G', 'C', 'A', 'A', 'A', 'T', 'T', 'T', 'T', 'G', 'T', 'A', 'T', 'G', 'C', 'T', 'G', 'A', 'A', 'A', 'C', 'T', 'T', 'C', 'T', 'C', 'A', 'A', 'C', 'C', 'A', 'G', 'A', 'A', 'G', 'A', 'A', 'A', 'G', 'G', 'G', 'C', 'C', 'T', 'T', 'C', 'A', 'C', 'A', 'A', 'T', 'G', 'T', 'C', 'C', 'T', 'T', 'T', 'G', 'T', 'G', 'T', 'A', 'A', 'G', 'A', 'A', 'T', 'G', 'A'], ['A', 'T', 'G', 'G', 'A', 'T', 'T', 'T', 'A', 'T', 'C', 'T', 'G', 'C', 'G', 'G', 'A', 'T', 'C', 'G', 'T', 'G', 'T', 'T', 'G', 'A', 'A', 'G', 'A', 'A', 'G', 'T', 'A', 'C', 'A', 'A', 'A', 'A', 'T', 'G', 'T', 'T', 'C', 'T', 'T', 'A', 'A', 'T', 'G', 'C', 'T', 'A', 'T', 'G', 'C', 'A', 'G', 'A', 'A', 'A', 'A', 'T', 'C', 'T', 'T', 'A', 'G', 'A', 'G', 'T', 'G', 'T', 'C', 'C', 'A', 'A', 'T', 'A', 'T', 'G', 'T', 'C', 'T', 'G', 'G', 'A', 'G', 'T', 'T', 'G', 'A', 'T', 'C', 'A', 'A', 'A', 'G', 'A', 'G', 'C', 'C', 'T', 'G', 'T', 'T', 'T', 'C', 'T', 'A', 'C', 'A', 'A', 'A', 'G', 'T', 'G', 'T', 'G', 'A', 'T', 'C', 'A', 'C', 'A', 'T', 'A', 'T', 'T', 'T', 'T', 'G', 'C', 'A', 'A', 'A', 'T', 'T', 'T', 'T', 'G', 'T', 'A', 'T', 'G', 'C', 'T', 'G', 'A', 'A', 'A', 'C', 'T', 'T', 'C', 'T', 'C', 'A', 'A', 'C', 'C', 'A', 'G', 'A', 'G', 'G', 'A', 'A', 'G', 'G', 'G', 'G', 'C', 'C', 'T', 'T', 'C', 'A', 'C', 'A', 'G', 'T', 'G', 'T', 'C', 'C', 'T', 'T', 'T', 'G', 'T', 'G', 'T', 'A', 'A', 'G', 'A', 'A', 'C', 'G', 'A'], 18), ('brca1_bos_taurus', 'brca1_gallus_gallus'): (['A', 'T', 'G', 'G', 'A', 'T', 'T', 'T', 'A', 'T', 'C', 'T', 'G', 'C', 'G', 'G', 'A', 'T', 'C', 'A', 'T', 'G', 'T', 'T', 'G', 'A', 'A', 'G', 'A', '-', 'A', 'G', 'T', 'A', 'C', 'A', 'A', 'A', 'A', 'T', 'G', 'T', 'C', 'C', 'T', 'C', 'A', 'A', 'T', 'G', 'C', 'T', 'A', 'T', 'G', 'C', 'A', '-', 'G', 'A', 'A', 'A', 'A', 'T', 'C', 'T', 'T', 'A', 'G', '-', '-', 'A', 'G', 'T', 'G', 'T', 'C', 'C', 'A', 'A', 'T', 'A', '-', 'T', 'G', 'T', 'C', 'T', 'G', 'G', 'A', 'G', 'T', 'T', 'G', 'A', 'T', 'C', 'A', 'A', 'A', 'G', 'A', 'G', 'C', 'C', 'T', '-', 'G', 'T', 'C', '-', 'T', 'C', 'T', 'A', 'C', 'A', 'A', 'A', 'G', 'T', 'G', 'T', 'G', 'A', 'C', 'C', '-', 'A', '-', 'C', 'A', '-', 'T', 'A', 'T', 'T', 'T', 'T', 'G', 'C', 'A', 'A', 'A', 'T', 'T', 'T', 'T', 'G', 'T', 'A', 'T', 'G', 'C', '-', 'T', 'G', 'A', 'A', 'A', 'C', '-', 'T', '-', '-', 'T', 'C', 'T', 'C', 'A', 'A', 'C', 'C', 'A', '-', 'G', 'A', 'A', 'G', 'A', 'A', 'A', 'G', 'G', 'G', 'C', 'C', 'T', 'T', 'C', 'A', 'C', 'A', 'A', 'T', 'G', 'T', 'C', 'C', '-', '-', 'T', 'T', 'T', 'G', 'T', 'G', 'T', 'A', 'A', 'G', 'A', 'A', 'T', 'G', 'A', '-'], ['G', 'C', 'G', 'A', 'A', '-', '-', '-', 'A', 'T', '-', '-', 'G', 'T', 'A', '-', 'A', '-', 'C', 'A', 'C', 'G', 'G', 'T', 'A', 'G', 'A', 'G', 'G', 'T', 'G', 'A', 'T', '-', 'C', 'G', 'G', 'G', 'G', 'T', 'G', '-', 'C', 'G', 'T', 'T', 'A', '-', 'T', 'A', 'C', '-', 'G', 'T', 'G', 'C', 'G', 'T', 'G', 'G', 'T', 'G', 'A', 'C', 'C', 'T', 'C', 'G', 'G', 'T', 'C', 'G', 'G', 'T', 'G', 'T', 'T', '-', 'G', 'A', 'C', 'G', 'G', 'T', 'G', 'C', 'C', 'T', 'G', 'G', 'G', 'G', 'T', 'T', 'C', 'C', 'T', 'C', 'A', 'G', 'A', 'G', 'T', 'G', 'T', 'T', 'T', 'T', 'G', 'G', 'G', 'G', 'T', 'C', 'T', 'G', 'A', 'A', 'G', 'G', 'A', 'T', 'G', '-', 'G', 'A', 'C', 'T', 'T', 'G', 'T', 'C', 'A', 'G', 'T', 'G', 'A', 'T', 'T', '-', 'G', 'C', 'C', 'A', '-', 'T', 'T', 'G', 'G', 'A', 'G', 'A', 'C', 'G', 'T', 'G', 'C', 'A', 'A', 'A', 'A', 'T', 'G', 'T', 'G', 'C', 'T', 'T', 'T', 'C', 'A', 'G', 'C', 'C', 'A', 'T', 'G', 'C', 'A', 'G', 'A', 'A', '-', 'G', 'A', 'A', 'C', '-', 'T', 'T', 'G', 'G', '-', 'A', 'G', 'T', 'G', 'T', 'C', 'C', 'A', 'G', 'T', 'C', 'T', 'G', 'T', 'T', 'T', 'A', 'G', 'A', 'T', 'G', 'T', 'G', 'A', 'T'], 384), ('brca1_canis_lupus', 'brca1_gallus_gallus'): (['A', 'T', 'G', 'G', 'A', 'T', 'T', 'T', 'A', 'T', 'C', 'T', 'G', 'C', 'G', 'G', 'A', 'T', 'C', 'G', 'T', 'G', 'T', 'T', 'G', 'A', 'A', 'G', 'A', 'A', 'G', 'T', 'A', 'C', 'A', 'A', 'A', 'A', 'T', 'G', 'T', 'T', 'C', 'T', 'T', 'A', 'A', 'T', 'G', 'C', 'T', 'A', 'T', 'G', 'C', 'A', '-', 'G', 'A', 'A', 'A', 'A', 'T', 'C', 'T', 'T', 'A', 'G', '-', '-', 'A', 'G', 'T', 'G', 'T', 'C', 'C', 'A', 'A', 'T', 'A', '-', 'T', 'G', 'T', 'C', 'T', 'G', 'G', 'A', 'G', 'T', 'T', 'G', 'A', 'T', 'C', 'A', 'A', 'A', 'G', 'A', 'G', 'C', 'C', 'T', '-', 'G', 'T', 'T', '-', 'T', 'C', 'T', 'A', 'C', 'A', 'A', 'A', 'G', 'T', 'G', 'T', 'G', 'A', '-', 'T', 'C', 'A', '-', 'C', 'A', '-', 'T', 'A', 'T', 'T', 'T', 'T', 'G', 'C', 'A', 'A', 'A', 'T', 'T', 'T', 'T', 'G', 'T', 'A', 'T', 'G', 'C', '-', 'T', 'G', 'A', 'A', 'A', 'C', '-', 'T', '-', '-', 'T', 'C', 'T', 'C', 'A', 'A', 'C', 'C', 'A', '-', 'G', 'A', 'G', 'G', 'A', 'A', 'G', 'G', 'G', 'G', 'C', 'C', 'T', 'T', 'C', 'A', 'C', 'A', 'G', 'T', 'G', 'T', 'C', 'C', '-', '-', 'T', 'T', 'T', 'G', 'T', 'G', 'T', 'A', 'A', 'G', 'A', 'A', 'C', 'G', 'A', '-'], ['G', 'C', 'G', 'A', 'A', 'A', 'T', '-', 'G', 'T', 'A', '-', 'A', 'C', '-', '-', 'A', '-', 'C', 'G', '-', 'G', 'T', 'A', 'G', 'A', 'G', 'G', 'T', 'G', 'A', 'T', '-', 'C', 'G', 'G', 'G', 'G', 'T', 'G', 'C', 'G', '-', 'T', 'T', 'A', '-', 'T', 'A', 'C', '-', 'G', 'T', 'G', 'C', 'G', 'T', 'G', 'G', 'T', 'G', 'A', 'C', 'C', 'T', 'C', 'G', 'G', 'T', 'C', 'G', 'G', 'T', 'G', 'T', 'T', '-', 'G', 'A', 'C', 'G', 'G', 'T', 'G', 'C', 'C', 'T', 'G', 'G', 'G', 'G', 'T', 'T', 'C', 'C', 'T', 'C', 'A', 'G', 'A', 'G', 'T', 'G', 'T', 'T', 'T', 'T', 'G', 'G', 'G', 'G', 'T', 'C', 'T', 'G', 'A', 'A', 'G', 'G', 'A', 'T', 'G', '-', 'G', 'A', 'C', 'T', 'T', 'G', 'T', 'C', 'A', 'G', 'T', 'G', 'A', 'T', 'T', '-', 'G', 'C', 'C', 'A', '-', 'T', 'T', 'G', 'G', 'A', 'G', 'A', 'C', 'G', 'T', 'G', 'C', 'A', 'A', 'A', 'A', 'T', 'G', 'T', 'G', 'C', 'T', 'T', 'T', 'C', 'A', 'G', 'C', 'C', 'A', 'T', 'G', 'C', 'A', 'G', 'A', 'A', 'G', 'A', 'A', '-', 'C', '-', 'T', 'T', 'G', 'G', '-', 'A', 'G', 'T', 'G', 'T', 'C', 'C', 'A', 'G', 'T', 'C', 'T', 'G', 'T', 'T', 'T', 'A', 'G', 'A', 'T', 'G', 'T', 'G', 'A', 'T'], 385)}\n",
      "\n",
      "       \u001b[1mDistance matrix\u001b[0m\n",
      "                     brca1_bos_taurus  brca1_canis_lupus  brca1_gallus_gallus\n",
      "brca1_bos_taurus                    0                 18                  384\n",
      "brca1_canis_lupus                  18                  0                  385\n",
      "brca1_gallus_gallus               384                385                    0\n",
      "\n",
      "Average sequence distances to other sequences: {'brca1_bos_taurus': 134.0, 'brca1_canis_lupus': 134.33, 'brca1_gallus_gallus': 256.33}\n",
      "\n",
      "Center sequence: brca1_bos_taurus\n",
      "\n",
      "\t\u001b[1mb) Initializing alignment with the most similar sequences, with the center sequence in the first row\u001b[0m\n",
      "\n",
      "First pair: ('brca1_bos_taurus', 'brca1_canis_lupus')\n",
      "\n",
      "Initialized alignment, M: [['A', 'A'], ['T', 'T'], ['G', 'G'], ['G', 'G'], ['A', 'A'], ['T', 'T'], ['T', 'T'], ['T', 'T'], ['A', 'A'], ['T', 'T'], ['C', 'C'], ['T', 'T'], ['G', 'G'], ['C', 'C'], ['G', 'G'], ['G', 'G'], ['A', 'A'], ['T', 'T'], ['C', 'C'], ['A', 'G'], ['T', 'T'], ['G', 'G'], ['T', 'T'], ['T', 'T'], ['G', 'G'], ['A', 'A'], ['A', 'A'], ['G', 'G'], ['A', 'A'], ['A', 'A'], ['G', 'G'], ['T', 'T'], ['A', 'A'], ['C', 'C'], ['A', 'A'], ['A', 'A'], ['A', 'A'], ['A', 'A'], ['T', 'T'], ['G', 'G'], ['T', 'T'], ['C', 'T'], ['C', 'C'], ['T', 'T'], ['C', 'T'], ['A', 'A'], ['A', 'A'], ['T', 'T'], ['G', 'G'], ['C', 'C'], ['T', 'T'], ['A', 'A'], ['T', 'T'], ['G', 'G'], ['C', 'C'], ['A', 'A'], ['G', 'G'], ['A', 'A'], ['A', 'A'], ['A', 'A'], ['A', 'A'], ['T', 'T'], ['C', 'C'], ['T', 'T'], ['T', 'T'], ['A', 'A'], ['G', 'G'], ['A', 'A'], ['G', 'G'], ['T', 'T'], ['G', 'G'], ['T', 'T'], ['C', 'C'], ['C', 'C'], ['A', 'A'], ['A', 'A'], ['T', 'T'], ['A', 'A'], ['T', 'T'], ['G', 'G'], ['T', 'T'], ['C', 'C'], ['T', 'T'], ['G', 'G'], ['G', 'G'], ['A', 'A'], ['G', 'G'], ['T', 'T'], ['T', 'T'], ['G', 'G'], ['A', 'A'], ['T', 'T'], ['C', 'C'], ['A', 'A'], ['A', 'A'], ['A', 'A'], ['G', 'G'], ['A', 'A'], ['G', 'G'], ['C', 'C'], ['C', 'C'], ['T', 'T'], ['G', 'G'], ['T', 'T'], ['C', 'T'], ['T', 'T'], ['C', 'C'], ['T', 'T'], ['A', 'A'], ['C', 'C'], ['A', 'A'], ['A', 'A'], ['A', 'A'], ['G', 'G'], ['T', 'T'], ['G', 'G'], ['T', 'T'], ['G', 'G'], ['A', 'A'], ['C', 'T'], ['C', 'C'], ['A', 'A'], ['C', 'C'], ['A', 'A'], ['T', 'T'], ['A', 'A'], ['T', 'T'], ['T', 'T'], ['T', 'T'], ['T', 'T'], ['G', 'G'], ['C', 'C'], ['A', 'A'], ['A', 'A'], ['A', 'A'], ['T', 'T'], ['T', 'T'], ['T', 'T'], ['T', 'T'], ['G', 'G'], ['T', 'T'], ['A', 'A'], ['T', 'T'], ['G', 'G'], ['C', 'C'], ['T', 'T'], ['G', 'G'], ['A', 'A'], ['A', 'A'], ['A', 'A'], ['C', 'C'], ['T', 'T'], ['T', 'T'], ['C', 'C'], ['T', 'T'], ['C', 'C'], ['A', 'A'], ['A', 'A'], ['C', 'C'], ['C', 'C'], ['A', 'A'], ['G', 'G'], ['A', 'A'], ['A', 'G'], ['G', 'G'], ['A', 'A'], ['A', 'A'], ['A', 'G'], ['G', 'G'], ['G', 'G'], ['G', 'G'], ['C', 'C'], ['C', 'C'], ['T', 'T'], ['T', 'T'], ['C', 'C'], ['A', 'A'], ['C', 'C'], ['A', 'A'], ['A', 'G'], ['T', 'T'], ['G', 'G'], ['T', 'T'], ['C', 'C'], ['C', 'C'], ['T', 'T'], ['T', 'T'], ['T', 'T'], ['G', 'G'], ['T', 'T'], ['G', 'G'], ['T', 'T'], ['A', 'A'], ['A', 'A'], ['G', 'G'], ['A', 'A'], ['A', 'A'], ['T', 'C'], ['G', 'G'], ['A', 'A']]\n",
      "\n",
      "\n",
      "\u001b[1mPart 2: Computing the multiple sequence alignment using the extend_msa.py file\u001b[0m\n",
      "\n",
      "MSA: ['ATGGATTTATCTGCGGATCATGTTGAAGA-AGTACAAAATGTCCTCAATGCTATGCA-GAAAATCTTAG--AGTGTCCAATA-TGTCTGGAGTTGATCAAAGAGCCT-GTC-TCTACAAAGTGTGACC-A-CA-TATTTTGCAAATTTTGTATGC-TGAAAC-T--TCTCAACCA-GAAGAAAGGGCCTTCACAATGTCC--TTTGTGTAAGAATGA-', 'ATGGATTTATCTGCGGATCGTGTTGAAGA-AGTACAAAATGTTCTTAATGCTATGCA-GAAAATCTTAG--AGTGTCCAATA-TGTCTGGAGTTGATCAAAGAGCCT-GTT-TCTACAAAGTGTGATC-A-CA-TATTTTGCAAATTTTGTATGC-TGAAAC-T--TCTCAACCA-GAGGAAGGGGCCTTCACAGTGTCC--TTTGTGTAAGAACGA-', 'GCGAA---AT--GTA-A-CACGGTAGAGGTGAT-CGGGGTG-CGTTA-TAC-GTGCGTGGTGACCTCGGTCGGTGTT-GACGGTGCCTGGGGTTCCTCAGAGTGTTTTGGGGTCTGAAGGATG-GACTTGTCAGTGATT-GCCA-TTGGAGACGTGCAAAATGTGCTTTCAGCCATGCAGAA-GAAC-TTGG-AGTGTCCAGTCTGTTTAGATGTGAT']\n",
      "\n",
      "\n",
      "\u001b[1mPart 3: Getting the SP score from the sum of columns\u001b[0m\n",
      "\n",
      "Approximate SP score: 792\n"
     ]
    },
    {
     "data": {
      "text/plain": [
       "(['ATGGATTTATCTGCGGATCATGTTGAAGA-AGTACAAAATGTCCTCAATGCTATGCA-GAAAATCTTAG--AGTGTCCAATA-TGTCTGGAGTTGATCAAAGAGCCT-GTC-TCTACAAAGTGTGACC-A-CA-TATTTTGCAAATTTTGTATGC-TGAAAC-T--TCTCAACCA-GAAGAAAGGGCCTTCACAATGTCC--TTTGTGTAAGAATGA-',\n",
       "  'ATGGATTTATCTGCGGATCGTGTTGAAGA-AGTACAAAATGTTCTTAATGCTATGCA-GAAAATCTTAG--AGTGTCCAATA-TGTCTGGAGTTGATCAAAGAGCCT-GTT-TCTACAAAGTGTGATC-A-CA-TATTTTGCAAATTTTGTATGC-TGAAAC-T--TCTCAACCA-GAGGAAGGGGCCTTCACAGTGTCC--TTTGTGTAAGAACGA-',\n",
       "  'GCGAA---AT--GTA-A-CACGGTAGAGGTGAT-CGGGGTG-CGTTA-TAC-GTGCGTGGTGACCTCGGTCGGTGTT-GACGGTGCCTGGGGTTCCTCAGAGTGTTTTGGGGTCTGAAGGATG-GACTTGTCAGTGATT-GCCA-TTGGAGACGTGCAAAATGTGCTTTCAGCCATGCAGAA-GAAC-TTGG-AGTGTCCAGTCTGTTTAGATGTGAT'],\n",
       " 792)"
      ]
     },
     "execution_count": 8,
     "metadata": {},
     "output_type": "execute_result"
    }
   ],
   "source": [
    "sequences = read_fasta('brca1-testseqs-3.fasta')\n",
    "sp_approx(sequences, scoreMatrix, gapCost)"
   ]
  },
  {
   "cell_type": "markdown",
   "id": "b9efaa5c",
   "metadata": {},
   "source": [
    "### Exact algorithm"
   ]
  },
  {
   "cell_type": "code",
   "execution_count": null,
   "id": "cb7b682f",
   "metadata": {},
   "outputs": [],
   "source": [
    "def sp_exact_3():\n",
    "    pass"
   ]
  }
 ],
 "metadata": {
  "kernelspec": {
   "display_name": "Python 3 (ipykernel)",
   "language": "python",
   "name": "python3"
  },
  "language_info": {
   "codemirror_mode": {
    "name": "ipython",
    "version": 3
   },
   "file_extension": ".py",
   "mimetype": "text/x-python",
   "name": "python",
   "nbconvert_exporter": "python",
   "pygments_lexer": "ipython3",
   "version": "3.11.7"
  }
 },
 "nbformat": 4,
 "nbformat_minor": 5
}
