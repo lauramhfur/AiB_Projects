{
 "cells": [
  {
   "cell_type": "markdown",
   "id": "8a73d1c9",
   "metadata": {},
   "source": [
    "### Group 8\n",
    "- Nimrod Grandpierre\n",
    "- Jonas Riber Jørgensen\n",
    "- Johan Ulstrup\n",
    "- Laura Fur\n",
    "\n",
    "# Project 6: HP folding"
   ]
  },
  {
   "cell_type": "markdown",
   "id": "892f0357",
   "metadata": {},
   "source": [
    "## <span style=\"color:cornflowerblue\">Problem<span/>\n",
    "**Problem 1**: Implement the 1/4 approximation algorithm for folding a hp-string in the 2D HP Model. You program should take a hp-string as input and output the energy of the computed fold for this string. It should also be possible to output a representation of the computed fold in a format that can be used by hpview3k.py (or hpview.py if you are using Python 2), see below, such that its energy can be validated."
   ]
  },
  {
   "cell_type": "code",
   "execution_count": 1,
   "id": "70a51ab9",
   "metadata": {},
   "outputs": [],
   "source": [
    "import pandas as pd\n",
    "from hpview3k import *\n",
    "from split_string import *\n",
    "from match_positions import *\n",
    "from make_fold import *\n",
    "from best_combination import *"
   ]
  },
  {
   "cell_type": "code",
   "execution_count": 2,
   "id": "cd631162",
   "metadata": {},
   "outputs": [],
   "source": [
    "def HP_approx(S: str, show_fold = False):\n",
    "\n",
    "    \"\"\" \n",
    "    Part 1: Match odds and evens\n",
    "    - Split string in half. \n",
    "    - Find possible match positions under the matching criteria for the approximation algorithm.\n",
    "    - Calculate best possible free energy.\n",
    "    \"\"\"\n",
    "    \n",
    "    # Best possible:\n",
    "    combination = best_combination(S)\n",
    "    best_split_type = combination[0]\n",
    "    best_of_oe_eo = combination[1] \n",
    "    best_split = combination[2] \n",
    "    matched_positions = combination[3]\n",
    "    bestFree = combination[4]\n",
    "\n",
    "    S1, S2 = best_split\n",
    "\n",
    "    print(f'\\33[96m\\33[1mBest split type\\33[0m            {best_split_type}')\n",
    "    print(f'\\33[96m\\33[1mBest orientation\\33[0m           {best_of_oe_eo}')\n",
    "    print(f'\\33[96m\\33[1mPossible match positions\\33[0m   {matched_positions}')\n",
    "    print(f'\\33[96m\\33[1mBest possible free energy\\33[0m  {bestFree}')\n",
    "\n",
    "    \"\"\" \n",
    "    Part 2: Make a fold from the matching\n",
    "    Make an HP fold F = Fold(S) such that HP-Score(F) >= \"Size of Matching\" >= 1/2 min(|Even(S)|, |Odd(S)|)\n",
    "    \"\"\"\n",
    "\n",
    "    freeEnergy = 0\n",
    "    HP_fold = make_fold(S1, S2, matched_positions, best_of_oe_eo)\n",
    "    \n",
    "    if show_fold == False:\n",
    "        return freeEnergy\n",
    "    \n",
    "    return S, HP_fold, freeEnergy"
   ]
  },
  {
   "cell_type": "code",
   "execution_count": 3,
   "id": "dfb6dc98",
   "metadata": {},
   "outputs": [
    {
     "name": "stdout",
     "output_type": "stream",
     "text": [
      "\u001b[96m\u001b[1mBest split type\u001b[0m            Half of odds-split\n",
      "\u001b[96m\u001b[1mBest orientation\u001b[0m           E-O\n",
      "\u001b[96m\u001b[1mPossible match positions\u001b[0m   {2: 17, 8: 13}\n",
      "\u001b[96m\u001b[1mBest possible free energy\u001b[0m  -4\n"
     ]
    },
    {
     "data": {
      "text/plain": [
       "('hhppppphhppphppphp', 'ennesseswwwwwwwswnw', 0)"
      ]
     },
     "execution_count": 3,
     "metadata": {},
     "output_type": "execute_result"
    }
   ],
   "source": [
    "hp_1 = 'hhppppphhppphppphp'\n",
    "HP_approx(hp_1, show_fold = True)"
   ]
  },
  {
   "cell_type": "code",
   "execution_count": 4,
   "id": "4824bee5",
   "metadata": {},
   "outputs": [
    {
     "name": "stdout",
     "output_type": "stream",
     "text": [
      "\u001b[96m\u001b[1mBest split type\u001b[0m            Half of odds-split\n",
      "\u001b[96m\u001b[1mBest orientation\u001b[0m           O-E\n",
      "\u001b[96m\u001b[1mPossible match positions\u001b[0m   {1: 18, 3: 14, 5: 12}\n",
      "\u001b[96m\u001b[1mBest possible free energy\u001b[0m  -8\n"
     ]
    },
    {
     "data": {
      "text/plain": [
       "('hphphhhppphhhhpphh', 'eeeeseeeeeeeeeeee', 0)"
      ]
     },
     "execution_count": 4,
     "metadata": {},
     "output_type": "execute_result"
    }
   ],
   "source": [
    "hp_2 = 'hphphhhppphhhhpphh'\n",
    "HP_approx(hp_2, show_fold = True)"
   ]
  },
  {
   "cell_type": "code",
   "execution_count": 5,
   "id": "741fb0ee",
   "metadata": {},
   "outputs": [
    {
     "name": "stdout",
     "output_type": "stream",
     "text": [
      "\u001b[96m\u001b[1mBest split type\u001b[0m            Half of evens-split\n",
      "\u001b[96m\u001b[1mBest orientation\u001b[0m           O-E\n",
      "\u001b[96m\u001b[1mPossible match positions\u001b[0m   {5: 18, 7: 16, 9: 14}\n",
      "\u001b[96m\u001b[1mBest possible free energy\u001b[0m  -7\n"
     ]
    },
    {
     "data": {
      "text/plain": [
       "('phpphphhhphhphhhhh', 'eeeeeeeeeeeseeeee', 0)"
      ]
     },
     "execution_count": 5,
     "metadata": {},
     "output_type": "execute_result"
    }
   ],
   "source": [
    "hp_3 = 'phpphphhhphhphhhhh'\n",
    "HP_approx(hp_3, show_fold = True)"
   ]
  }
 ],
 "metadata": {
  "kernelspec": {
   "display_name": "Python 3 (ipykernel)",
   "language": "python",
   "name": "python3"
  },
  "language_info": {
   "codemirror_mode": {
    "name": "ipython",
    "version": 3
   },
   "file_extension": ".py",
   "mimetype": "text/x-python",
   "name": "python",
   "nbconvert_exporter": "python",
   "pygments_lexer": "ipython3",
   "version": "3.11.7"
  }
 },
 "nbformat": 4,
 "nbformat_minor": 5
}
