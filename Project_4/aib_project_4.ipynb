{
 "cells": [
  {
   "cell_type": "markdown",
   "metadata": {},
   "source": [
    "### Group 8\n",
    "- Nimrod Grandpierre\n",
    "- Jonas Riber Jørgensen\n",
    "- Johan Ulstrup\n",
    "- Laura Fur"
   ]
  },
  {
   "cell_type": "markdown",
   "metadata": {},
   "source": [
    "# Project 4: Tree Comparison\n",
    "\n",
    "This project is about comparing evolutionary trees constructed using the Neighbor Joining (NJ) methods on different datasets. The objective is to implement an efficient algorithm for computing the RF distance between two trees and use this implementation in an experiment.\n",
    "\n",
    "## <span style=\"color:cornflowerblue\">Problem<span/>\n",
    "\n",
    "You should implement an algorithm for computing the RF distance between two unrooted evolutionary trees over the same set of species. The algorithm can e.g. be Day's algorithm as explained in class. You should make a program called ```rfdist``` which as input takes two evolutionary trees in Newick format (also referred to as 'New Hampshire format'), and outputs the RF distance between them.\n",
    "\n",
    "The archive testdata.zip contains two trees with RF-distance 8. These can e.g. be used for testing."
   ]
  },
  {
   "cell_type": "code",
   "execution_count": 1,
   "metadata": {},
   "outputs": [],
   "source": [
    "from Bio import Phylo\n",
    "import random\n",
    "import os\n",
    "import time\n",
    "import matplotlib.pyplot as plt\n",
    "import numpy as np\n",
    "import pandas as pd\n",
    "from simulate_trees import *"
   ]
  },
  {
   "cell_type": "markdown",
   "metadata": {},
   "source": [
    "### **Implementation**"
   ]
  },
  {
   "cell_type": "code",
   "execution_count": 2,
   "metadata": {},
   "outputs": [],
   "source": [
    "def rfdist(T1: object, T2: object) -> int:\n",
    "    \n",
    "    \"\"\" Part 1: Rooting the trees \"\"\"\n",
    "\n",
    "    # Default root is the first sequence in tree 1 that is also found in tree 2.\n",
    "    # Assumption: at least one sequence is shared between the two trees.\n",
    "    \n",
    "    seqNames_T1 = np.array([leaf.name for leaf in T1.get_terminals()])\n",
    "    seqNames_T2 = np.array([leaf.name for leaf in T2.get_terminals()])\n",
    "\n",
    "    rootName = None\n",
    "    for i in seqNames_T1:\n",
    "        if i in seqNames_T2:\n",
    "            rootName = i\n",
    "            break\n",
    "    \n",
    "    # Root trees with selected root:\n",
    "    T1.root_with_outgroup(rootName)\n",
    "    T2.root_with_outgroup(rootName)\n",
    "\n",
    "    \"\"\" Part 2: Depth-first numbering \"\"\"\n",
    "\n",
    "    # Empty dictionary used for depth-first numbering tree 1:\n",
    "    numberingDict = {leaf: 0 for leaf in seqNames_T1}\n",
    "\n",
    "    # Depth-first numbering of tree 1:\n",
    "    T1_labeller = 1\n",
    "    for leaf in T1.get_terminals():\n",
    "        if leaf.name != rootName:\n",
    "            numberingDict[leaf.name] = T1_labeller\n",
    "            leaf.name = T1_labeller\n",
    "        T1_labeller += 1\n",
    "\n",
    "    # Depth-first numbering of tree 2:\n",
    "    T2_labeller = len(numberingDict) + 1\n",
    "    for leaf in T2.get_terminals():\n",
    "        if leaf.name != rootName:\n",
    "            if leaf.name in numberingDict.keys(): \n",
    "                leaf.name = numberingDict[leaf.name]\n",
    "            else: \n",
    "                leaf.name = T2_labeller # In case tree 2 has sequences not present in tree 1, we also label those.\n",
    "                T2_labeller += 1\n",
    "\n",
    "    \"\"\" Part 3: Identifying tree branches \"\"\"\n",
    "\n",
    "    def get_branches(DF_tree: object) -> list[tuple]:\n",
    "        branch_intervals = []\n",
    "\n",
    "        # Depth-first search:\n",
    "        def dfs(node):\n",
    "            if node.is_terminal():\n",
    "                return np.array([node.name])\n",
    "                \n",
    "            else:\n",
    "                left_interval = dfs(node.clades[0])\n",
    "                right_interval = dfs(node.clades[1])\n",
    "                interval = (left_interval[0], right_interval[-1]) # [-1], because we might have intervals containing more than two values and want to get the last.\n",
    "                branch_intervals.append(interval)\n",
    "\n",
    "                return interval\n",
    "\n",
    "        # Initialization: start traversal at the children of the root:\n",
    "        for child in DF_tree.root.clades:\n",
    "            _ = dfs(child)\n",
    "\n",
    "        return branch_intervals\n",
    "\n",
    "    branches_T1 = np.array(get_branches(T1))\n",
    "    branches_T2 = np.array(get_branches(T2))\n",
    "\n",
    "    \"\"\" Part 4: Calculating the RF distance \"\"\"\n",
    "\n",
    "    common_branches = set(map(tuple, branches_T1)).intersection(map(tuple, branches_T2))\n",
    "    RF_distance = len(branches_T1) + len(branches_T2) - 2 * len(common_branches)\n",
    "\n",
    "    return RF_distance"
   ]
  },
  {
   "cell_type": "markdown",
   "metadata": {},
   "source": [
    "#### ```rfdist()```\n",
    "\n",
    "The function consists of four main parts:\n",
    "\n",
    "**1. Rooting the unrooted input trees.** The input trees are read using the ```read()``` function from the Phylo module. When selecting a root, it is assumed that at least one sequence is shared between the two trees. The default root is the first sequence in tree 1 that is also found in tree 2, when traversing the trees.\n",
    "\n",
    "**2. Depth-first numbering.** The names of all sequences present in the first tree are inserted in a dictionary and numbered in the order they are inserted. The sequences in the second tree are also labeled based on the values in the dictionary given to the sequences common between the two trees. In case tree 2 contains other sequences than those found in tree 1, they are also labeled accordingly, counting from the last number labeled to a sequence in tree 1.\n",
    "\n",
    "**3. Identifying tree branches.** Here, we identify branches and label them as intervals, based on the depth-first numbering labels. Two nested functions are used for this.\n",
    "\n",
    "- The ```get_branches()``` function takes a rooted, depth-first-numbered tree as input and calls a depth-first search helper function. It uses the helper function's output to make a list for which a list with branch interval labels from a single tree.\n",
    "\n",
    "- The depth-first search helper function, ```dfs()``` takes a recursive approach and returns an interval for each node, which is a tuple of the smallest and largest labels (from the depth-first numbering) found in the subtree rooted at that node. The interval for the root node is not included, as it doesn't define a branch in the tree.\n",
    "\n",
    "**4. Calculating the RF distance** based on the branches identified and labeled in part 3. First, each list of branches is converted into a set of tuples. ```map``` converts each branch into a tuple, such that ```set``` can be used to remove duplicate branches, as this function ensures uniqueness of elements and only takes tuples. ```set.intersection()``` finds the common elements between the two sets of tuples, giving the set of common branches between the two trees. The RF distance is then calculated from the following formula: \n",
    "\n",
    "**<span style='color:lightskyblue'>RF distance = (number of branches in T1 not in T2) + (number of branches in T2 not in T1) - 2 * (number of common branches between T1 and T2)<span/>**\n",
    "\n",
    " Counting the number of bipartitions (branches) that are present in one tree but not the other, and vice versa. By subtracting twice the number of common branches from the sum of the number of branches in both trees, it ensures that common branches are not counted twice in the final distance."
   ]
  },
  {
   "cell_type": "markdown",
   "metadata": {},
   "source": [
    "## <span style=\"color:cornflowerblue\">Tests<span/>\n",
    "The function seems to work as intended, judging from running the algorithm on the provided test data:"
   ]
  },
  {
   "cell_type": "code",
   "execution_count": 3,
   "metadata": {},
   "outputs": [
    {
     "name": "stdout",
     "output_type": "stream",
     "text": [
      "RF distance: 8\n"
     ]
    }
   ],
   "source": [
    "tree1 = Phylo.read('Testdata/tree1.new', 'newick')\n",
    "tree2 = Phylo.read('Testdata/tree2.new', 'newick')\n",
    "\n",
    "print(f'RF distance: {rfdist(tree1, tree2)}')"
   ]
  },
  {
   "cell_type": "markdown",
   "metadata": {},
   "source": [
    "#### **Time complexity analysis of** ```rfdist()```\n",
    "Simulating trees of different sizes - the largest tree containing 1000 sequences - in Newick format (see simulate_trees.py file for script):"
   ]
  },
  {
   "cell_type": "code",
   "execution_count": 4,
   "metadata": {},
   "outputs": [],
   "source": [
    "random.seed(8)\n",
    "\n",
    "for i in ['treeA', 'treeB']:\n",
    "    for tree_len in range(2, 1001):\n",
    "        tree = generate_tree(tree_len, set())\n",
    "        write_newick(tree, f'Testdata/RandomTrees/{i}_len_{tree_len}.new')"
   ]
  },
  {
   "cell_type": "markdown",
   "metadata": {},
   "source": [
    "Measuring running time"
   ]
  },
  {
   "cell_type": "code",
   "execution_count": 5,
   "metadata": {},
   "outputs": [],
   "source": [
    "treeA_list = sorted([file for file in os.listdir('Testdata/RandomTrees') if file.startswith('treeA')], key=lambda s: int(s.split('_')[2].split('.')[0]))\n",
    "treeB_list = sorted([file for file in os.listdir('Testdata/RandomTrees') if file.startswith('treeB')], key=lambda s: int(s.split('_')[2].split('.')[0]))\n",
    "\n",
    "tree_sizes = np.arange(2, 1001)\n",
    "exec_times = np.zeros(len(tree_sizes))\n",
    "\n",
    "for i in range(2, len(tree_sizes)):\n",
    "    treeA = Phylo.read(f'Testdata/RandomTrees/{treeA_list[i]}', 'newick')\n",
    "    treeB = Phylo.read(f'Testdata/RandomTrees/{treeB_list[i]}', 'newick')\n",
    "\n",
    "    start_time = time.time()\n",
    "\n",
    "    rfdist(treeA, treeB)\n",
    "\n",
    "    end_time = time.time()\n",
    "    exec_times[i] = end_time - start_time"
   ]
  },
  {
   "cell_type": "code",
   "execution_count": 6,
   "metadata": {},
   "outputs": [],
   "source": [
    "df = pd.DataFrame({'tree_size': tree_sizes, 'exec_time': exec_times})\n",
    "\n",
    "lower_exec = df[df['exec_time'] < 0.03]\n",
    "upper_exec = df[df['exec_time'] > 0.03]\n",
    "\n",
    "lower_size = lower_exec['tree_size']\n",
    "upper_size = upper_exec['tree_size']"
   ]
  },
  {
   "cell_type": "code",
   "execution_count": 7,
   "metadata": {},
   "outputs": [
    {
     "data": {
      "image/png": "[encoded data removed]",
      "text/plain": [
       "<Figure size 640x480 with 1 Axes>"
      ]
     },
     "metadata": {},
     "output_type": "display_data"
    }
   ],
   "source": [
    "plt.scatter(lower_size, lower_exec['exec_time'], color = 'forestgreen', marker = '.', alpha = 0.2)\n",
    "plt.scatter(upper_size, upper_exec['exec_time'], color = 'limegreen', marker = '.', alpha = 0.8)\n",
    "plt.xlabel('Size of input trees')\n",
    "plt.ylabel('Running time [seconds]')\n",
    "plt.title('Time complexity plot for rfdist()')\n",
    "plt.grid(False)\n",
    "plt.show()"
   ]
  },
  {
   "cell_type": "markdown",
   "metadata": {},
   "source": [
    ">From the above time complexity plot, it is confirmed that the algorithm runs in $O(n)$ (at least for trees containing 2-1000 sequences), as expected. Both 'scatter clouds' are approximately linear. The fact that we observe _two_ 'scatter clouds' could indicate that the running time is also dependent on how different the trees are - i.e., how many sequences they share, relative to their size and due to memory allocation. However, this difference in running time can be considered negligible, looking at the y axis. Data is simple enough that we do not see a steep increase in running time.\n",
    "\n",
    ">**NOTE**: the time complexity is only analyzed for when the two trees have the same number of sequences."
   ]
  },
  {
   "cell_type": "markdown",
   "metadata": {},
   "source": [
    "## <span style=\"color:cornflowerblue\">Experiments<span/>\n",
    "The programs QuickTree and RapidNJ are implementations of the NJ methods. QuickTree implements the basic cubic time algorithm while RapidNJ implements an algorithm the is faster in practice. You might want to take a look at the QuickTree paper and the RapidNJ paper.\n",
    "\n",
    "Downloading quicktree_2.0.tar.gz and rapidnj-src-2.3.3.zip and compiling on a Linux-platform is straightforward (just run 'make'). \n",
    "\n",
    "The file patbase_aibtas.fasta contains 395 protein sequences from the P-Type ATPase Database in Fasta-format.\n",
    "\n",
    "You should make an experiment where you first construct a number of trees for these 395 sequences using NJ (as implemented in QuickTree and RapidNJ) based on different multiple alignments of the 395 sequences, and secondly, compare the construted trees using your program rfdist in order to investigate the influence of using different multiple alignment methods and tree reconstruction methods. Biologically, the 395 sequences are grouped into five groups. The group which a sequenence belongs to is indicated by the first character (1-5) in its name in Fasta-file. If you visualize your constructed trees using e.g. the program Dendroscope, you might want to inspect to what extend sequences from one group are in the same subtree.\n",
    "\n",
    "The alignment methods you most use are:\n",
    "\n",
    "- Clustal Omega: https://www.ebi.ac.uk/jdispatcher/msa/clustalo\n",
    "- Kalign: https://www.ebi.ac.uk/jdispatcher/msa/kalign\n",
    "- MUSCLE: https://www.ebi.ac.uk/jdispatcher/msa/muscle\n",
    "\n",
    "You should use the default parameters of each program. Beware of the output format. QuickTree can only read multiple alignments in Stockholm-format, and RapidNJ can read multiple alignments in both Fasta- and single line Stockholm-format.\n",
    "\n",
    "Converting to Stockholm-format: You can use the online converter available at http://hcv.lanl.gov/content/sequence/FORMAT_CONVERSION/form.html to convert different alignment formats to Stockholm- and Fasta-format. To convert to single line Stockholm-format, you must set the 'Output line width' to 'as wide as possible'. Update (Apr 2021): It seems that QuickTree 2.0 cannot read the Stockholm-format produced by the online converter. The problem is that the Stockholm-file constructed by the online converter starts with the line \"# STOCKHOLM 1.0\" follow by an empty line. If you remove these two lines, then QuickTree 2.0 can read the file. I do not know when this \"bug\" was introduced, but it used to work ;-)"
   ]
  },
  {
   "cell_type": "markdown",
   "metadata": {},
   "source": [
    "### **Experiment 1**\n",
    "*For each alignment method (Clustal Omega, Kalign, MUSCLE), you build a NJ tree using QuickTree and RapidNJ, and compute the RF-distance between each combination of these six trees. The outcome of your experiment, is an 6x6 table showing the RF-distance between each pair of constructed trees. (You might want to use the program Dendroscope to visualize the constructed trees.)*"
   ]
  },
  {
   "cell_type": "code",
   "execution_count": 8,
   "metadata": {},
   "outputs": [
    {
     "data": {
      "text/html": [
       "<div>\n",
       "<style scoped>\n",
       "    .dataframe tbody tr th:only-of-type {\n",
       "        vertical-align: middle;\n",
       "    }\n",
       "\n",
       "    .dataframe tbody tr th {\n",
       "        vertical-align: top;\n",
       "    }\n",
       "\n",
       "    .dataframe thead th {\n",
       "        text-align: right;\n",
       "    }\n",
       "</style>\n",
       "<table border=\"1\" class=\"dataframe\">\n",
       "  <thead>\n",
       "    <tr style=\"text-align: right;\">\n",
       "      <th></th>\n",
       "      <th>kalign.rapidNJ</th>\n",
       "      <th>muscle.rapidnj</th>\n",
       "      <th>clustal.rapidnj</th>\n",
       "      <th>kalign.quicktree</th>\n",
       "      <th>muscle.quicktree</th>\n",
       "      <th>clustal.quicktree</th>\n",
       "    </tr>\n",
       "  </thead>\n",
       "  <tbody>\n",
       "    <tr>\n",
       "      <th>kalign.rapidNJ</th>\n",
       "      <td>0</td>\n",
       "      <td>402</td>\n",
       "      <td>382</td>\n",
       "      <td>428</td>\n",
       "      <td>458</td>\n",
       "      <td>464</td>\n",
       "    </tr>\n",
       "    <tr>\n",
       "      <th>muscle.rapidnj</th>\n",
       "      <td>412</td>\n",
       "      <td>0</td>\n",
       "      <td>402</td>\n",
       "      <td>538</td>\n",
       "      <td>368</td>\n",
       "      <td>400</td>\n",
       "    </tr>\n",
       "    <tr>\n",
       "      <th>clustal.rapidnj</th>\n",
       "      <td>404</td>\n",
       "      <td>394</td>\n",
       "      <td>0</td>\n",
       "      <td>496</td>\n",
       "      <td>402</td>\n",
       "      <td>362</td>\n",
       "    </tr>\n",
       "    <tr>\n",
       "      <th>kalign.quicktree</th>\n",
       "      <td>424</td>\n",
       "      <td>534</td>\n",
       "      <td>494</td>\n",
       "      <td>0</td>\n",
       "      <td>510</td>\n",
       "      <td>474</td>\n",
       "    </tr>\n",
       "    <tr>\n",
       "      <th>muscle.quicktree</th>\n",
       "      <td>446</td>\n",
       "      <td>368</td>\n",
       "      <td>400</td>\n",
       "      <td>510</td>\n",
       "      <td>0</td>\n",
       "      <td>334</td>\n",
       "    </tr>\n",
       "    <tr>\n",
       "      <th>clustal.quicktree</th>\n",
       "      <td>456</td>\n",
       "      <td>430</td>\n",
       "      <td>356</td>\n",
       "      <td>480</td>\n",
       "      <td>336</td>\n",
       "      <td>0</td>\n",
       "    </tr>\n",
       "  </tbody>\n",
       "</table>\n",
       "</div>"
      ],
      "text/plain": [
       "                   kalign.rapidNJ  muscle.rapidnj  clustal.rapidnj  \\\n",
       "kalign.rapidNJ                  0             402              382   \n",
       "muscle.rapidnj                412               0              402   \n",
       "clustal.rapidnj               404             394                0   \n",
       "kalign.quicktree              424             534              494   \n",
       "muscle.quicktree              446             368              400   \n",
       "clustal.quicktree             456             430              356   \n",
       "\n",
       "                   kalign.quicktree  muscle.quicktree  clustal.quicktree  \n",
       "kalign.rapidNJ                  428               458                464  \n",
       "muscle.rapidnj                  538               368                400  \n",
       "clustal.rapidnj                 496               402                362  \n",
       "kalign.quicktree                  0               510                474  \n",
       "muscle.quicktree                510                 0                334  \n",
       "clustal.quicktree               480               336                  0  "
      ]
     },
     "execution_count": 8,
     "metadata": {},
     "output_type": "execute_result"
    }
   ],
   "source": [
    "tree_list = sorted([file for file in os.listdir('alignments') if file.endswith('.newick')], key=lambda s: sum(map(ord, s)))\n",
    "\n",
    "rfdists = [[0] * len(tree_list) for _ in range(len(tree_list))]\n",
    "\n",
    "for i, treeA_file in enumerate(tree_list):\n",
    "    for j, treeB_file in enumerate(tree_list):\n",
    "        if i != j:\n",
    "            treeA = Phylo.read(f'alignments/{treeA_file}', 'newick')\n",
    "            treeB = Phylo.read(f'alignments/{treeB_file}', 'newick')\n",
    "            rfdists[i][j] = rfdist(treeA, treeB)\n",
    "\n",
    "labels = [file[:-7] for file in tree_list]\n",
    "pd.DataFrame(rfdists, index = labels, columns = labels)"
   ]
  },
  {
   "cell_type": "markdown",
   "metadata": {},
   "source": [
    ">The alignment files generated with the alignment tools, Clustal Omega, Kalign and MUSCLE, can be found in the alignments permuted folder, respectively. Additionally the trees generated in newick format can be found in the alignments_results and permuted_results folders. "
   ]
  },
  {
   "cell_type": "markdown",
   "metadata": {},
   "source": [
    "### **Experiment 2**\n",
    "*Redo the above experiment where you use 395 input sequences in patbase_aibtas_permuted.fasta. This yields another 6x6 table.*"
   ]
  },
  {
   "cell_type": "code",
   "execution_count": 9,
   "metadata": {},
   "outputs": [
    {
     "data": {
      "text/html": [
       "<div>\n",
       "<style scoped>\n",
       "    .dataframe tbody tr th:only-of-type {\n",
       "        vertical-align: middle;\n",
       "    }\n",
       "\n",
       "    .dataframe tbody tr th {\n",
       "        vertical-align: top;\n",
       "    }\n",
       "\n",
       "    .dataframe thead th {\n",
       "        text-align: right;\n",
       "    }\n",
       "</style>\n",
       "<table border=\"1\" class=\"dataframe\">\n",
       "  <thead>\n",
       "    <tr style=\"text-align: right;\">\n",
       "      <th></th>\n",
       "      <th>kalign.permuted.rapidnj</th>\n",
       "      <th>muscle.permuted.rapidnj</th>\n",
       "      <th>clustal.permuted.rapidnj</th>\n",
       "      <th>kalign.permuted.quicktree</th>\n",
       "      <th>muscle.permuted.quicktree</th>\n",
       "      <th>clustal.permuted.quicktree</th>\n",
       "    </tr>\n",
       "  </thead>\n",
       "  <tbody>\n",
       "    <tr>\n",
       "      <th>kalign.permuted.rapidnj</th>\n",
       "      <td>0</td>\n",
       "      <td>408</td>\n",
       "      <td>392</td>\n",
       "      <td>430</td>\n",
       "      <td>458</td>\n",
       "      <td>428</td>\n",
       "    </tr>\n",
       "    <tr>\n",
       "      <th>muscle.permuted.rapidnj</th>\n",
       "      <td>412</td>\n",
       "      <td>0</td>\n",
       "      <td>388</td>\n",
       "      <td>496</td>\n",
       "      <td>380</td>\n",
       "      <td>418</td>\n",
       "    </tr>\n",
       "    <tr>\n",
       "      <th>clustal.permuted.rapidnj</th>\n",
       "      <td>396</td>\n",
       "      <td>390</td>\n",
       "      <td>0</td>\n",
       "      <td>496</td>\n",
       "      <td>414</td>\n",
       "      <td>366</td>\n",
       "    </tr>\n",
       "    <tr>\n",
       "      <th>kalign.permuted.quicktree</th>\n",
       "      <td>430</td>\n",
       "      <td>494</td>\n",
       "      <td>496</td>\n",
       "      <td>0</td>\n",
       "      <td>500</td>\n",
       "      <td>458</td>\n",
       "    </tr>\n",
       "    <tr>\n",
       "      <th>muscle.permuted.quicktree</th>\n",
       "      <td>460</td>\n",
       "      <td>382</td>\n",
       "      <td>416</td>\n",
       "      <td>498</td>\n",
       "      <td>0</td>\n",
       "      <td>342</td>\n",
       "    </tr>\n",
       "    <tr>\n",
       "      <th>clustal.permuted.quicktree</th>\n",
       "      <td>430</td>\n",
       "      <td>428</td>\n",
       "      <td>368</td>\n",
       "      <td>458</td>\n",
       "      <td>344</td>\n",
       "      <td>0</td>\n",
       "    </tr>\n",
       "  </tbody>\n",
       "</table>\n",
       "</div>"
      ],
      "text/plain": [
       "                            kalign.permuted.rapidnj  muscle.permuted.rapidnj  \\\n",
       "kalign.permuted.rapidnj                           0                      408   \n",
       "muscle.permuted.rapidnj                         412                        0   \n",
       "clustal.permuted.rapidnj                        396                      390   \n",
       "kalign.permuted.quicktree                       430                      494   \n",
       "muscle.permuted.quicktree                       460                      382   \n",
       "clustal.permuted.quicktree                      430                      428   \n",
       "\n",
       "                            clustal.permuted.rapidnj  \\\n",
       "kalign.permuted.rapidnj                          392   \n",
       "muscle.permuted.rapidnj                          388   \n",
       "clustal.permuted.rapidnj                           0   \n",
       "kalign.permuted.quicktree                        496   \n",
       "muscle.permuted.quicktree                        416   \n",
       "clustal.permuted.quicktree                       368   \n",
       "\n",
       "                            kalign.permuted.quicktree  \\\n",
       "kalign.permuted.rapidnj                           430   \n",
       "muscle.permuted.rapidnj                           496   \n",
       "clustal.permuted.rapidnj                          496   \n",
       "kalign.permuted.quicktree                           0   \n",
       "muscle.permuted.quicktree                         498   \n",
       "clustal.permuted.quicktree                        458   \n",
       "\n",
       "                            muscle.permuted.quicktree  \\\n",
       "kalign.permuted.rapidnj                           458   \n",
       "muscle.permuted.rapidnj                           380   \n",
       "clustal.permuted.rapidnj                          414   \n",
       "kalign.permuted.quicktree                         500   \n",
       "muscle.permuted.quicktree                           0   \n",
       "clustal.permuted.quicktree                        344   \n",
       "\n",
       "                            clustal.permuted.quicktree  \n",
       "kalign.permuted.rapidnj                            428  \n",
       "muscle.permuted.rapidnj                            418  \n",
       "clustal.permuted.rapidnj                           366  \n",
       "kalign.permuted.quicktree                          458  \n",
       "muscle.permuted.quicktree                          342  \n",
       "clustal.permuted.quicktree                           0  "
      ]
     },
     "execution_count": 9,
     "metadata": {},
     "output_type": "execute_result"
    }
   ],
   "source": [
    "tree_list = sorted([file for file in os.listdir('permuted/permuted_results') if file.endswith('.newick')], key=lambda s: sum(map(ord, s)))\n",
    "\n",
    "num_trees = len(tree_list)\n",
    "rfdists = [[0] * num_trees for _ in range(num_trees)]\n",
    "\n",
    "for i, treeA_file in enumerate(tree_list):\n",
    "    for j, treeB_file in enumerate(tree_list):\n",
    "        if i != j:\n",
    "            treeA = Phylo.read(f'permuted/permuted_results/{treeA_file}', 'newick')\n",
    "            treeB = Phylo.read(f'permuted/permuted_results/{treeB_file}', 'newick')\n",
    "            rfdists[i][j] = rfdist(treeA, treeB)\n",
    "\n",
    "labels = [file[:-7] for file in tree_list]\n",
    "pd.DataFrame(rfdists, index = labels, columns = labels)"
   ]
  },
  {
   "cell_type": "markdown",
   "metadata": {},
   "source": [
    "### **Experiment 3**\n",
    "*Compute the RF-distance between the trees produced in 'Experiment 1' and 'Experiment 2' using the same alignment and tree reconstruction method. This yields 6 distances.*"
   ]
  },
  {
   "cell_type": "code",
   "execution_count": 10,
   "metadata": {},
   "outputs": [
    {
     "data": {
      "text/html": [
       "<div>\n",
       "<style scoped>\n",
       "    .dataframe tbody tr th:only-of-type {\n",
       "        vertical-align: middle;\n",
       "    }\n",
       "\n",
       "    .dataframe tbody tr th {\n",
       "        vertical-align: top;\n",
       "    }\n",
       "\n",
       "    .dataframe thead th {\n",
       "        text-align: right;\n",
       "    }\n",
       "</style>\n",
       "<table border=\"1\" class=\"dataframe\">\n",
       "  <thead>\n",
       "    <tr style=\"text-align: right;\">\n",
       "      <th></th>\n",
       "      <th>kalign.rapidNJ</th>\n",
       "      <th>muscle.rapidnj</th>\n",
       "      <th>clustal.rapidnj</th>\n",
       "      <th>kalign.quicktree</th>\n",
       "      <th>muscle.quicktree</th>\n",
       "      <th>clustal.quicktree</th>\n",
       "    </tr>\n",
       "  </thead>\n",
       "  <tbody>\n",
       "    <tr>\n",
       "      <th>RF distance</th>\n",
       "      <td>584</td>\n",
       "      <td>498</td>\n",
       "      <td>466</td>\n",
       "      <td>628</td>\n",
       "      <td>402</td>\n",
       "      <td>414</td>\n",
       "    </tr>\n",
       "  </tbody>\n",
       "</table>\n",
       "</div>"
      ],
      "text/plain": [
       "             kalign.rapidNJ  muscle.rapidnj  clustal.rapidnj  \\\n",
       "RF distance             584             498              466   \n",
       "\n",
       "             kalign.quicktree  muscle.quicktree  clustal.quicktree  \n",
       "RF distance               628               402                414  "
      ]
     },
     "execution_count": 10,
     "metadata": {},
     "output_type": "execute_result"
    }
   ],
   "source": [
    "nonpermuted = sorted([file for file in os.listdir('alignments') if file.endswith('.newick')], key=lambda s: sum(map(ord, s)))\n",
    "permuted = sorted([file for file in os.listdir('permuted/permuted_results') if file.endswith('.newick')], key=lambda s: sum(map(ord, s)))\n",
    "\n",
    "rfdists = []\n",
    "\n",
    "for i in range(len(nonpermuted)):\n",
    "    treeA = Phylo.read(f'alignments/{nonpermuted[i]}', 'newick')\n",
    "    treeB = Phylo.read(f'permuted/permuted_results/{permuted[i]}', 'newick')\n",
    "    rfdists.append(rfdist(treeA, treeB))\n",
    "\n",
    "labels = [file[:-7] for file in nonpermuted]\n",
    "pd.DataFrame([rfdists], index = ['RF distance'], columns = labels)"
   ]
  },
  {
   "cell_type": "markdown",
   "metadata": {},
   "source": [
    "## <span style='color:cornflowerblue'>Conclusion<span/>\n",
    ">We have successfully implemented the ```rfdist()``` function in Python and conducted the experiments outlined in the project description.  "
   ]
  }
 ],
 "metadata": {
  "kernelspec": {
   "display_name": "Python 3",
   "language": "python",
   "name": "python3"
  },
  "language_info": {
   "codemirror_mode": {
    "name": "ipython",
    "version": 3
   },
   "file_extension": ".py",
   "mimetype": "text/x-python",
   "name": "python",
   "nbconvert_exporter": "python",
   "pygments_lexer": "ipython3",
   "version": "3.11.7"
  }
 },
 "nbformat": 4,
 "nbformat_minor": 2
}
