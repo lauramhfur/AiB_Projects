{
 "cells": [
  {
   "cell_type": "markdown",
   "metadata": {},
   "source": [
    "### Group 8\n",
    "- Nimrod Grandpierre\n",
    "- Jonas Riber Jørgensen\n",
    "- Johan Ulstrup\n",
    "- Laura Fur"
   ]
  },
  {
   "cell_type": "markdown",
   "metadata": {},
   "source": [
    "# Project 4: Tree Comparison\n",
    "\n",
    "This project is about comparing evolutionary trees constructed using the Neighbor Joining (NJ) methods on different datasets. The objective is to implement an efficient algorithm for computing the RF distance between two trees and use this implementation in an experiment.\n",
    "\n",
    "## <span style=\"color:cornflowerblue\">Problem<span/>\n",
    "\n",
    "You should implement an algorithm for computing the RF distance between two unrooted evolutionary trees over the same set of species. The algorithm can e.g. be Day's algorithm as explained in class. You should make a program called ```rfdist``` which as input takes two evolutionary trees in Newick format (also referred to as 'New Hampshire format'), and outputs the RF distance between them.\n",
    "\n",
    "The archive testdata.zip contains two trees with RF-distance 8. These can e.g. be used for testing."
   ]
  },
  {
   "cell_type": "code",
   "execution_count": 1,
   "metadata": {},
   "outputs": [],
   "source": [
    "from Bio import Phylo\n",
    "import random\n",
    "import os\n",
    "import time\n",
    "import matplotlib.pyplot as plt\n",
    "import numpy as np\n",
    "import pandas as pd\n",
    "from simulate_trees import *"
   ]
  },
  {
   "cell_type": "markdown",
   "metadata": {},
   "source": [
    "### **Implementation**"
   ]
  },
  {
   "cell_type": "code",
   "execution_count": 5,
   "metadata": {},
   "outputs": [],
   "source": [
    "def rfdist(T1: object, T2: object) -> int:\n",
    "    \n",
    "    \"\"\" Part 1: Rooting the trees \"\"\"\n",
    "\n",
    "    # Default root is the first sequence in tree 1 that is also found in tree 2.\n",
    "    # Assumption: at least one sequence is shared between the two trees.\n",
    "    \n",
    "    seqNames_T1 = np.array([leaf.name for leaf in T1.get_terminals()])\n",
    "    seqNames_T2 = np.array([leaf.name for leaf in T2.get_terminals()])\n",
    "\n",
    "    rootName = None\n",
    "    for i in seqNames_T1:\n",
    "        if i in seqNames_T2:\n",
    "            rootName = i\n",
    "            break\n",
    "    \n",
    "    # Root trees with selected root:\n",
    "    T1.root_with_outgroup(rootName)\n",
    "    T2.root_with_outgroup(rootName)\n",
    "\n",
    "    # Remove root from tree (for convenience):\n",
    "    T1.prune(rootName)\n",
    "    T2.prune(rootName)\n",
    "\n",
    "    \"\"\" Part 2: Depth-first numbering \"\"\"\n",
    "\n",
    "    # Tree 1:\n",
    "    numberedLeaves_T1 = {leaf.name: i for i, leaf in enumerate(T1.get_terminals(), start = 1)}\n",
    "\n",
    "    # Tree 2:\n",
    "    numberedLeaves_T2 = {} \n",
    "    labeller = 1                                                    \n",
    "    for leaf in T2.get_terminals():\n",
    "        if leaf.name in numberedLeaves_T1.keys():\n",
    "            numberedLeaves_T2[leaf.name] = numberedLeaves_T1[leaf.name]\n",
    "        else:                                                                               \n",
    "            numberedLeaves_T2[leaf.name] = max(numberedLeaves_T1.values()) + labeller  # In case tree 2 has sequences not present in tree 1, we also label those.\n",
    "            labeller += 1\n",
    "\n",
    "    \"\"\" Part 3: Identifying individual and shared tree splits \"\"\"\n",
    "\n",
    "    def get_splits(tree: object, numberedLeaves: dict, tree1 = False, tree2 = False):\n",
    "        intervals = []\n",
    "        potentially_sharedSplits = []\n",
    "\n",
    "        for clade in tree.find_clades(order = 'postorder'):\n",
    "            if not clade.is_terminal():\n",
    "                leaf_numbers = [numberedLeaves[leaf.name] for leaf in clade.get_terminals()]\n",
    "                min_leaf = min(leaf_numbers)\n",
    "                max_leaf = max(leaf_numbers)\n",
    "                intervals.append((min_leaf, max_leaf))\n",
    "\n",
    "                if tree2 and max_leaf - min_leaf == len(leaf_numbers) - 1: # Checks if leaf numbers in a clade are consecutive. If so, we consider this a potentially shared split.\n",
    "                    potentially_sharedSplits.append((min_leaf, max_leaf))\n",
    "\n",
    "        if tree1:\n",
    "            return intervals\n",
    "        elif tree2:\n",
    "            return intervals, potentially_sharedSplits\n",
    "        else:\n",
    "            return None\n",
    "\n",
    "    T1_splits = get_splits(T1, numberedLeaves = numberedLeaves_T1, tree1 = True)\n",
    "    T2_splits, potentially_sharedSplits = get_splits(T2, numberedLeaves = numberedLeaves_T2, tree2 = True)\n",
    "\n",
    "    # print(f'\\033[1mTree 1 splits:\\033[0m {T1_splits}')\n",
    "    # print(f'\\033[1mTree 2 splits:\\033[0m {T2_splits}')\n",
    "    # print(f'\\033[1mPotentially shared splits:\\033[0m {potentially_sharedSplits}')\n",
    "\n",
    "    \"\"\" Part 4: Calculating the RF distance \"\"\"\n",
    "    sharedSplits = set(T1_splits).intersection(potentially_sharedSplits) # Get overlaping splits\n",
    "\n",
    "    # print(f'\\033[1mActually shared splits:\\033[0m {sharedSplits}')\n",
    "\n",
    "    RF_distance = len(T1_splits) + len(T2_splits) - 2 * len(sharedSplits)\n",
    "\n",
    "    return RF_distance"
   ]
  },
  {
   "cell_type": "markdown",
   "metadata": {},
   "source": [
    "#### ```rfdist()```\n",
    "\n",
    "The function consists of four main parts:\n",
    "\n",
    "**1. Rooting the unrooted input trees.** The input trees are read using the ```read()``` function from the Phylo module. The default root is the first sequence in the first tree that is also found in the second tree (if they have shared sequences), when traversing the trees. The root is removed from the tree again, for convenience. In case the second tree does not contain any of the same sequences in the first tree, it remains unchanged.\n",
    "\n",
    "**2. Depth-first numbering.** The names of all sequences present in the first tree are inserted in a dictionary and numbered in the order they are found in the tree when traversing. The sequences in the second tree are also labeled based on the values in the dictionary given to the sequences common between the two trees. In case the second tree contains other sequences than those found in the first tree, they are also labeled accordingly, counting from the last number labeled to a sequence in the first tree.\n",
    "\n",
    "**3. Identifying tree splits.** To identify tree splits, we use the function, ```get_splits()```, which takes four aguments: ```tree``` - a Phylo tree, ```numberedLeaves``` - a dictionary with original leaf names (as keys) and their new labels after depth-first numbering (as values), ```tree1``` and ```tree2```, for which you can specify if you are getting splits for the first or second tree (default for both is ```False```). If not specified, the function returns ```None```.\n",
    "\n",
    " The function identifies leaves in clades, gets their depth-first numbered label and puts these labels in a list, ```leaf_numbers```. From this list, the function finds the minimum and maximum value to make an 'interval'. For the second tree, these intervals might not always be from a clade with consecutively numbered leaves, because it simply finds the minimum and maximum value of this list. We make use of the fact that the clades in the first tree have consecutively numbered leaves to identify potentially shared splits (intervals) with the second tree and then identify the actually shared splits by finding the unique intervals in the first tree that intersect with the potentially shared intervals found in the second tree.\n",
    "\n",
    "**4. Calculating the RF distance** based on the splits and shared splits identified in part 3. The RF distance is then calculated from the following formula: \n",
    "\n",
    "**<span style='color:lightskyblue'>RF distance = (number of splits in T1) + (number of splits in T2) - 2 * (number of common splits between T1 and T2)<span/>**"
   ]
  },
  {
   "cell_type": "markdown",
   "metadata": {},
   "source": [
    "## <span style=\"color:cornflowerblue\">Tests<span/>\n",
    ">The function seems to work as intended, judging from running the algorithm on the provided test data:"
   ]
  },
  {
   "cell_type": "code",
   "execution_count": 3,
   "metadata": {},
   "outputs": [
    {
     "name": "stdout",
     "output_type": "stream",
     "text": [
      "\u001b[1mTree 1 splits:\u001b[0m [(2, 3), (5, 6), (4, 6), (2, 6), (2, 7), (1, 7), (8, 9), (1, 9)]\n",
      "\u001b[1mTree 2 splits:\u001b[0m [(8, 9), (4, 9), (1, 9), (1, 9), (2, 3), (1, 9), (5, 6), (1, 9)]\n",
      "\u001b[1mPotentially shared splits:\u001b[0m [(8, 9), (2, 3), (5, 6), (1, 9)]\n",
      "\u001b[1mActually shared splits:\u001b[0m {(2, 3), (1, 9), (8, 9), (5, 6)}\n",
      "\u001b[1mRF distance:\u001b[0m 8\n"
     ]
    }
   ],
   "source": [
    "tree1 = Phylo.read('Testdata/tree1.new', 'newick')\n",
    "tree2 = Phylo.read('Testdata/tree2.new', 'newick')\n",
    "\n",
    "print(f'\\033[1mRF distance:\\033[0m {rfdist(tree1, tree2)}')"
   ]
  },
  {
   "cell_type": "markdown",
   "metadata": {},
   "source": [
    ">and our own testdata:"
   ]
  },
  {
   "cell_type": "code",
   "execution_count": 4,
   "metadata": {},
   "outputs": [
    {
     "name": "stdout",
     "output_type": "stream",
     "text": [
      "\u001b[1mTree 1 splits:\u001b[0m [(2, 3), (1, 3), (5, 6), (5, 7), (5, 8), (4, 8), (1, 8), (1, 9)]\n",
      "\u001b[1mTree 2 splits:\u001b[0m [(12, 13), (12, 14), (11, 14), (10, 14), (17, 18), (16, 18), (15, 18), (10, 18)]\n",
      "\u001b[1mPotentially shared splits:\u001b[0m [(12, 13), (12, 14), (11, 14), (10, 14), (17, 18), (16, 18), (15, 18), (10, 18)]\n",
      "\u001b[1mActually shared splits:\u001b[0m set()\n",
      "\u001b[1mRF distance:\u001b[0m 16\n"
     ]
    }
   ],
   "source": [
    "treeA = Phylo.read('Testdata/Randomtrees/treeA_len_10.new', 'newick')\n",
    "treeB = Phylo.read('Testdata/Randomtrees/treeB_len_10.new', 'newick')\n",
    "\n",
    "print(f'\\033[1mRF distance:\\033[0m {rfdist(treeA, treeB)}')"
   ]
  },
  {
   "cell_type": "markdown",
   "metadata": {},
   "source": [
    ">These trees are completely different, containing no identical sequences. The algorithm correctly identifies no actually shared splits. \n",
    "\n",
    ">**NOTE** that the print statements have been commented out for the experiments."
   ]
  },
  {
   "cell_type": "markdown",
   "metadata": {},
   "source": [
    "#### **Time complexity analysis of** ```rfdist()```\n",
    "Simulating trees of different sizes - the largest tree containing 1000 sequences - in Newick format (see simulate_trees.py file for script):"
   ]
  },
  {
   "cell_type": "code",
   "execution_count": 6,
   "metadata": {},
   "outputs": [],
   "source": [
    "random.seed(8)\n",
    "\n",
    "for i in ['treeA', 'treeB']:\n",
    "    for tree_len in range(2, 1001):\n",
    "        tree = generate_tree(tree_len, set())\n",
    "        write_newick(tree, f'Testdata/Randomtrees/{i}_len_{tree_len}.new')"
   ]
  },
  {
   "cell_type": "markdown",
   "metadata": {},
   "source": [
    "Measuring running time:"
   ]
  },
  {
   "cell_type": "code",
   "execution_count": 7,
   "metadata": {},
   "outputs": [],
   "source": [
    "treeA_list = sorted([file for file in os.listdir('Testdata/Randomtrees') if file.startswith('treeA')], key = lambda s: int(s.split('_')[2].split('.')[0]))\n",
    "treeB_list = sorted([file for file in os.listdir('Testdata/Randomtrees') if file.startswith('treeB')], key = lambda s: int(s.split('_')[2].split('.')[0]))\n",
    "\n",
    "tree_sizes = np.arange(2, 1001)\n",
    "exec_times = np.zeros(len(tree_sizes))\n",
    "\n",
    "for i in range(2, len(tree_sizes)):\n",
    "    treeA = Phylo.read(f'Testdata/Randomtrees/{treeA_list[i]}', 'newick')\n",
    "    treeB = Phylo.read(f'Testdata/Randomtrees/{treeB_list[i]}', 'newick')\n",
    "\n",
    "    start_time = time.time()\n",
    "\n",
    "    rfdist(treeA, treeB)\n",
    "\n",
    "    end_time = time.time()\n",
    "    exec_times[i] = end_time - start_time"
   ]
  },
  {
   "cell_type": "code",
   "execution_count": 8,
   "metadata": {},
   "outputs": [
    {
     "data": {
      "image/png": "[encoded data removed]",
      "text/plain": [
       "<Figure size 640x480 with 1 Axes>"
      ]
     },
     "metadata": {},
     "output_type": "display_data"
    }
   ],
   "source": [
    "df = pd.DataFrame({'tree_size': tree_sizes, 'exec_time': exec_times})\n",
    "\n",
    "plt.scatter(df['tree_size'], df['exec_time'], color = 'limegreen', marker = '.', alpha = 0.6)\n",
    "plt.xlabel('Size of input trees')\n",
    "plt.ylabel('Running time [seconds]')\n",
    "plt.title('Time complexity plot for rfdist()')\n",
    "plt.grid(False)\n",
    "plt.show()"
   ]
  },
  {
   "cell_type": "markdown",
   "metadata": {},
   "source": [
    ">From the above time complexity plot, it is confirmed that the algorithm runs in approximately linear time (at least for trees containing 2-1000 sequences), as intended. Both 'scatter clouds' are approximately linear. The fact that we observe _two_ 'scatter clouds' and that the scatter clouds become less 'dense' as the size of the input trees increases could indicate that the running time is also dependent on how different the trees are - i.e., how many sequences they share, relative to their size, and due to memory allocation or random CPU fluctuations. However, this difference in running time can be considered negligible, looking at the y axis. Data is simple enough that we do not see a steep increase in running time.\n",
    "\n",
    ">**NOTE**: the time complexity is only analyzed for when the two trees have the same number of sequences."
   ]
  },
  {
   "cell_type": "markdown",
   "metadata": {},
   "source": [
    "## <span style=\"color:cornflowerblue\">Experiments<span/>\n",
    "The programs QuickTree and RapidNJ are implementations of the NJ methods. QuickTree implements the basic cubic time algorithm while RapidNJ implements an algorithm the is faster in practice. You might want to take a look at the QuickTree paper and the RapidNJ paper.\n",
    "\n",
    "Downloading quicktree_2.0.tar.gz and rapidnj-src-2.3.3.zip and compiling on a Linux-platform is straightforward (just run 'make'). \n",
    "\n",
    "The file patbase_aibtas.fasta contains 395 protein sequences from the P-Type ATPase Database in Fasta-format.\n",
    "\n",
    "You should make an experiment where you first construct a number of trees for these 395 sequences using NJ (as implemented in QuickTree and RapidNJ) based on different multiple alignments of the 395 sequences, and secondly, compare the construted trees using your program rfdist in order to investigate the influence of using different multiple alignment methods and tree reconstruction methods. Biologically, the 395 sequences are grouped into five groups. The group which a sequenence belongs to is indicated by the first character (1-5) in its name in Fasta-file. If you visualize your constructed trees using e.g. the program Dendroscope, you might want to inspect to what extend sequences from one group are in the same subtree.\n",
    "\n",
    "The alignment methods you most use are:\n",
    "\n",
    "- Clustal Omega: https://www.ebi.ac.uk/jdispatcher/msa/clustalo\n",
    "- Kalign: https://www.ebi.ac.uk/jdispatcher/msa/kalign\n",
    "- MUSCLE: https://www.ebi.ac.uk/jdispatcher/msa/muscle\n",
    "\n",
    "You should use the default parameters of each program. Beware of the output format. QuickTree can only read multiple alignments in Stockholm-format, and RapidNJ can read multiple alignments in both Fasta- and single line Stockholm-format.\n",
    "\n",
    "Converting to Stockholm-format: You can use the online converter available at http://hcv.lanl.gov/content/sequence/FORMAT_CONVERSION/form.html to convert different alignment formats to Stockholm- and Fasta-format. To convert to single line Stockholm-format, you must set the 'Output line width' to 'as wide as possible'. Update (Apr 2021): It seems that QuickTree 2.0 cannot read the Stockholm-format produced by the online converter. The problem is that the Stockholm-file constructed by the online converter starts with the line \"# STOCKHOLM 1.0\" follow by an empty line. If you remove these two lines, then QuickTree 2.0 can read the file. I do not know when this \"bug\" was introduced, but it used to work ;-)"
   ]
  },
  {
   "cell_type": "markdown",
   "metadata": {},
   "source": [
    "### **Experiment 1**\n",
    "*For each alignment method (Clustal Omega, Kalign, MUSCLE), you build a NJ tree using QuickTree and RapidNJ, and compute the RF-distance between each combination of these six trees. The outcome of your experiment, is an 6x6 table showing the RF-distance between each pair of constructed trees. (You might want to use the program Dendroscope to visualize the constructed trees.)*"
   ]
  },
  {
   "cell_type": "code",
   "execution_count": 9,
   "metadata": {},
   "outputs": [
    {
     "data": {
      "text/html": [
       "<div>\n",
       "<style scoped>\n",
       "    .dataframe tbody tr th:only-of-type {\n",
       "        vertical-align: middle;\n",
       "    }\n",
       "\n",
       "    .dataframe tbody tr th {\n",
       "        vertical-align: top;\n",
       "    }\n",
       "\n",
       "    .dataframe thead th {\n",
       "        text-align: right;\n",
       "    }\n",
       "</style>\n",
       "<table border=\"1\" class=\"dataframe\">\n",
       "  <thead>\n",
       "    <tr style=\"text-align: right;\">\n",
       "      <th></th>\n",
       "      <th>kalign.rapidNJ</th>\n",
       "      <th>muscle.rapidnj</th>\n",
       "      <th>clustal.rapidnj</th>\n",
       "      <th>kalign.quicktree</th>\n",
       "      <th>muscle.quicktree</th>\n",
       "      <th>clustal.quicktree</th>\n",
       "    </tr>\n",
       "  </thead>\n",
       "  <tbody>\n",
       "    <tr>\n",
       "      <th>kalign.rapidNJ</th>\n",
       "      <td>0</td>\n",
       "      <td>286</td>\n",
       "      <td>274</td>\n",
       "      <td>232</td>\n",
       "      <td>318</td>\n",
       "      <td>290</td>\n",
       "    </tr>\n",
       "    <tr>\n",
       "      <th>muscle.rapidnj</th>\n",
       "      <td>286</td>\n",
       "      <td>0</td>\n",
       "      <td>242</td>\n",
       "      <td>298</td>\n",
       "      <td>192</td>\n",
       "      <td>246</td>\n",
       "    </tr>\n",
       "    <tr>\n",
       "      <th>clustal.rapidnj</th>\n",
       "      <td>274</td>\n",
       "      <td>242</td>\n",
       "      <td>0</td>\n",
       "      <td>296</td>\n",
       "      <td>284</td>\n",
       "      <td>230</td>\n",
       "    </tr>\n",
       "    <tr>\n",
       "      <th>kalign.quicktree</th>\n",
       "      <td>232</td>\n",
       "      <td>298</td>\n",
       "      <td>296</td>\n",
       "      <td>0</td>\n",
       "      <td>264</td>\n",
       "      <td>206</td>\n",
       "    </tr>\n",
       "    <tr>\n",
       "      <th>muscle.quicktree</th>\n",
       "      <td>318</td>\n",
       "      <td>192</td>\n",
       "      <td>284</td>\n",
       "      <td>264</td>\n",
       "      <td>0</td>\n",
       "      <td>198</td>\n",
       "    </tr>\n",
       "    <tr>\n",
       "      <th>clustal.quicktree</th>\n",
       "      <td>290</td>\n",
       "      <td>246</td>\n",
       "      <td>230</td>\n",
       "      <td>206</td>\n",
       "      <td>198</td>\n",
       "      <td>0</td>\n",
       "    </tr>\n",
       "  </tbody>\n",
       "</table>\n",
       "</div>"
      ],
      "text/plain": [
       "                   kalign.rapidNJ  muscle.rapidnj  clustal.rapidnj  \\\n",
       "kalign.rapidNJ                  0             286              274   \n",
       "muscle.rapidnj                286               0              242   \n",
       "clustal.rapidnj               274             242                0   \n",
       "kalign.quicktree              232             298              296   \n",
       "muscle.quicktree              318             192              284   \n",
       "clustal.quicktree             290             246              230   \n",
       "\n",
       "                   kalign.quicktree  muscle.quicktree  clustal.quicktree  \n",
       "kalign.rapidNJ                  232               318                290  \n",
       "muscle.rapidnj                  298               192                246  \n",
       "clustal.rapidnj                 296               284                230  \n",
       "kalign.quicktree                  0               264                206  \n",
       "muscle.quicktree                264                 0                198  \n",
       "clustal.quicktree               206               198                  0  "
      ]
     },
     "execution_count": 9,
     "metadata": {},
     "output_type": "execute_result"
    }
   ],
   "source": [
    "tree_list = sorted([file for file in os.listdir('alignments_newicks') if file.endswith('.newick')], key = lambda s: sum(map(ord, s)))\n",
    "\n",
    "rfdists = [[0] * len(tree_list) for _ in range(len(tree_list))]\n",
    "\n",
    "for i, treeA_file in enumerate(tree_list):\n",
    "    for j, treeB_file in enumerate(tree_list):\n",
    "        if i != j:\n",
    "            treeA = Phylo.read(f'alignments_newicks/{treeA_file}', 'newick')\n",
    "            treeB = Phylo.read(f'alignments_newicks/{treeB_file}', 'newick')\n",
    "            rfdists[i][j] = rfdist(treeA, treeB)\n",
    "\n",
    "labels = [file[:-7] for file in tree_list]\n",
    "pd.DataFrame(rfdists, index = labels, columns = labels)"
   ]
  },
  {
   "cell_type": "markdown",
   "metadata": {},
   "source": [
    ">The newick files from the alignments generated with the alignment tools for the non-permuted data can be found in the 'alignments_newicks' folder."
   ]
  },
  {
   "cell_type": "markdown",
   "metadata": {},
   "source": [
    "### **Experiment 2**\n",
    "*Redo the above experiment where you use 395 input sequences in patbase_aibtas_permuted.fasta. This yields another 6x6 table.*"
   ]
  },
  {
   "cell_type": "code",
   "execution_count": 10,
   "metadata": {},
   "outputs": [
    {
     "data": {
      "text/html": [
       "<div>\n",
       "<style scoped>\n",
       "    .dataframe tbody tr th:only-of-type {\n",
       "        vertical-align: middle;\n",
       "    }\n",
       "\n",
       "    .dataframe tbody tr th {\n",
       "        vertical-align: top;\n",
       "    }\n",
       "\n",
       "    .dataframe thead th {\n",
       "        text-align: right;\n",
       "    }\n",
       "</style>\n",
       "<table border=\"1\" class=\"dataframe\">\n",
       "  <thead>\n",
       "    <tr style=\"text-align: right;\">\n",
       "      <th></th>\n",
       "      <th>kalign.permuted.rapidnj</th>\n",
       "      <th>muscle.permuted.rapidnj</th>\n",
       "      <th>clustal.permuted.rapidnj</th>\n",
       "      <th>kalign.permuted.quicktree</th>\n",
       "      <th>muscle.permuted.quicktree</th>\n",
       "      <th>clustal.permuted.quicktree</th>\n",
       "    </tr>\n",
       "  </thead>\n",
       "  <tbody>\n",
       "    <tr>\n",
       "      <th>kalign.permuted.rapidnj</th>\n",
       "      <td>0</td>\n",
       "      <td>268</td>\n",
       "      <td>280</td>\n",
       "      <td>226</td>\n",
       "      <td>298</td>\n",
       "      <td>288</td>\n",
       "    </tr>\n",
       "    <tr>\n",
       "      <th>muscle.permuted.rapidnj</th>\n",
       "      <td>268</td>\n",
       "      <td>0</td>\n",
       "      <td>246</td>\n",
       "      <td>284</td>\n",
       "      <td>208</td>\n",
       "      <td>216</td>\n",
       "    </tr>\n",
       "    <tr>\n",
       "      <th>clustal.permuted.rapidnj</th>\n",
       "      <td>280</td>\n",
       "      <td>246</td>\n",
       "      <td>0</td>\n",
       "      <td>298</td>\n",
       "      <td>280</td>\n",
       "      <td>238</td>\n",
       "    </tr>\n",
       "    <tr>\n",
       "      <th>kalign.permuted.quicktree</th>\n",
       "      <td>226</td>\n",
       "      <td>284</td>\n",
       "      <td>298</td>\n",
       "      <td>0</td>\n",
       "      <td>224</td>\n",
       "      <td>198</td>\n",
       "    </tr>\n",
       "    <tr>\n",
       "      <th>muscle.permuted.quicktree</th>\n",
       "      <td>298</td>\n",
       "      <td>208</td>\n",
       "      <td>280</td>\n",
       "      <td>224</td>\n",
       "      <td>0</td>\n",
       "      <td>158</td>\n",
       "    </tr>\n",
       "    <tr>\n",
       "      <th>clustal.permuted.quicktree</th>\n",
       "      <td>288</td>\n",
       "      <td>216</td>\n",
       "      <td>238</td>\n",
       "      <td>198</td>\n",
       "      <td>158</td>\n",
       "      <td>0</td>\n",
       "    </tr>\n",
       "  </tbody>\n",
       "</table>\n",
       "</div>"
      ],
      "text/plain": [
       "                            kalign.permuted.rapidnj  muscle.permuted.rapidnj  \\\n",
       "kalign.permuted.rapidnj                           0                      268   \n",
       "muscle.permuted.rapidnj                         268                        0   \n",
       "clustal.permuted.rapidnj                        280                      246   \n",
       "kalign.permuted.quicktree                       226                      284   \n",
       "muscle.permuted.quicktree                       298                      208   \n",
       "clustal.permuted.quicktree                      288                      216   \n",
       "\n",
       "                            clustal.permuted.rapidnj  \\\n",
       "kalign.permuted.rapidnj                          280   \n",
       "muscle.permuted.rapidnj                          246   \n",
       "clustal.permuted.rapidnj                           0   \n",
       "kalign.permuted.quicktree                        298   \n",
       "muscle.permuted.quicktree                        280   \n",
       "clustal.permuted.quicktree                       238   \n",
       "\n",
       "                            kalign.permuted.quicktree  \\\n",
       "kalign.permuted.rapidnj                           226   \n",
       "muscle.permuted.rapidnj                           284   \n",
       "clustal.permuted.rapidnj                          298   \n",
       "kalign.permuted.quicktree                           0   \n",
       "muscle.permuted.quicktree                         224   \n",
       "clustal.permuted.quicktree                        198   \n",
       "\n",
       "                            muscle.permuted.quicktree  \\\n",
       "kalign.permuted.rapidnj                           298   \n",
       "muscle.permuted.rapidnj                           208   \n",
       "clustal.permuted.rapidnj                          280   \n",
       "kalign.permuted.quicktree                         224   \n",
       "muscle.permuted.quicktree                           0   \n",
       "clustal.permuted.quicktree                        158   \n",
       "\n",
       "                            clustal.permuted.quicktree  \n",
       "kalign.permuted.rapidnj                            288  \n",
       "muscle.permuted.rapidnj                            216  \n",
       "clustal.permuted.rapidnj                           238  \n",
       "kalign.permuted.quicktree                          198  \n",
       "muscle.permuted.quicktree                          158  \n",
       "clustal.permuted.quicktree                           0  "
      ]
     },
     "execution_count": 10,
     "metadata": {},
     "output_type": "execute_result"
    }
   ],
   "source": [
    "tree_list = sorted([file for file in os.listdir('permuted/permuted_newicks')], key = lambda s: sum(map(ord, s)))\n",
    "\n",
    "num_trees = len(tree_list)\n",
    "rfdists = [[0] * num_trees for _ in range(num_trees)]\n",
    "\n",
    "for i, treeA_file in enumerate(tree_list):\n",
    "    for j, treeB_file in enumerate(tree_list):\n",
    "        if i != j:\n",
    "            treeA = Phylo.read(f'permuted/permuted_newicks/{treeA_file}', 'newick')\n",
    "            treeB = Phylo.read(f'permuted/permuted_newicks/{treeB_file}', 'newick')\n",
    "            rfdists[i][j] = rfdist(treeA, treeB)\n",
    "\n",
    "labels = [file[:-7] for file in tree_list]\n",
    "pd.DataFrame(rfdists, index = labels, columns = labels)"
   ]
  },
  {
   "cell_type": "markdown",
   "metadata": {},
   "source": [
    ">The newick files from the alignments generated with the alignment tools for the permuted data can be found in the 'permuted_newicks' subfolder in the 'permuted' parent folder."
   ]
  },
  {
   "cell_type": "markdown",
   "metadata": {},
   "source": [
    "### **Experiment 3**\n",
    "*Compute the RF-distance between the trees produced in 'Experiment 1' and 'Experiment 2' using the same alignment and tree reconstruction method. This yields 6 distances.*"
   ]
  },
  {
   "cell_type": "code",
   "execution_count": 11,
   "metadata": {},
   "outputs": [
    {
     "data": {
      "text/html": [
       "<div>\n",
       "<style scoped>\n",
       "    .dataframe tbody tr th:only-of-type {\n",
       "        vertical-align: middle;\n",
       "    }\n",
       "\n",
       "    .dataframe tbody tr th {\n",
       "        vertical-align: top;\n",
       "    }\n",
       "\n",
       "    .dataframe thead th {\n",
       "        text-align: right;\n",
       "    }\n",
       "</style>\n",
       "<table border=\"1\" class=\"dataframe\">\n",
       "  <thead>\n",
       "    <tr style=\"text-align: right;\">\n",
       "      <th></th>\n",
       "      <th>Kalign - RapidNJ</th>\n",
       "      <th>Muscle - RapidNJ</th>\n",
       "      <th>Clustal - RapidNJ</th>\n",
       "      <th>Kalign - QuickTree</th>\n",
       "      <th>Muscle - QuickTree</th>\n",
       "      <th>Clustal - QuickTree</th>\n",
       "    </tr>\n",
       "  </thead>\n",
       "  <tbody>\n",
       "    <tr>\n",
       "      <th>RF distance</th>\n",
       "      <td>264</td>\n",
       "      <td>216</td>\n",
       "      <td>160</td>\n",
       "      <td>172</td>\n",
       "      <td>158</td>\n",
       "      <td>68</td>\n",
       "    </tr>\n",
       "  </tbody>\n",
       "</table>\n",
       "</div>"
      ],
      "text/plain": [
       "             Kalign - RapidNJ  Muscle - RapidNJ  Clustal - RapidNJ  \\\n",
       "RF distance               264               216                160   \n",
       "\n",
       "             Kalign - QuickTree  Muscle - QuickTree  Clustal - QuickTree  \n",
       "RF distance                 172                 158                   68  "
      ]
     },
     "execution_count": 11,
     "metadata": {},
     "output_type": "execute_result"
    }
   ],
   "source": [
    "nonpermuted = sorted([file for file in os.listdir('alignments_newicks') if file.endswith('.newick')], key = lambda s: sum(map(ord, s)))\n",
    "permuted = sorted([file for file in os.listdir('permuted/permuted_newicks')], key = lambda s: sum(map(ord, s)))\n",
    "\n",
    "rfdists = []\n",
    "\n",
    "for i in range(len(nonpermuted)):\n",
    "    treeA = Phylo.read(f'alignments_newicks/{nonpermuted[i]}', 'newick')\n",
    "    treeB = Phylo.read(f'permuted/permuted_newicks/{permuted[i]}', 'newick')\n",
    "    rfdists.append(rfdist(treeA, treeB))\n",
    "\n",
    "labels = [f'{file[:-17].capitalize()} - QuickTree' if file.endswith('quicktree.newick') else f'{file[:-15].capitalize()} - RapidNJ' for file in nonpermuted]\n",
    "pd.DataFrame([rfdists], index = ['RF distance'], columns = labels)"
   ]
  },
  {
   "cell_type": "markdown",
   "metadata": {},
   "source": [
    "## <span style='color:cornflowerblue'>Conclusion<span/>\n",
    ">We have successfully implemented the ```rfdist()``` function in Python and conducted the experiments outlined in the project description. The algorithm works as intended when using testdata and approximately runs in linear time."
   ]
  }
 ],
 "metadata": {
  "kernelspec": {
   "display_name": "Python 3",
   "language": "python",
   "name": "python3"
  },
  "language_info": {
   "codemirror_mode": {
    "name": "ipython",
    "version": 3
   },
   "file_extension": ".py",
   "mimetype": "text/x-python",
   "name": "python",
   "nbconvert_exporter": "python",
   "pygments_lexer": "ipython3",
   "version": "3.11.7"
  }
 },
 "nbformat": 4,
 "nbformat_minor": 2
}
