{
 "cells": [
  {
   "cell_type": "markdown",
   "metadata": {},
   "source": [
    "# A simple tree in Python"
   ]
  },
  {
   "cell_type": "markdown",
   "metadata": {},
   "source": [
    "Here is a minimal data strucutre for representing a tree in Python. A tree is just a node with two or more children."
   ]
  },
  {
   "cell_type": "code",
   "execution_count": 3,
   "metadata": {},
   "outputs": [],
   "source": [
    "class Node:\n",
    "    \n",
    "    def __init__ (self, length=None, name=None, children=None):\n",
    "        self.length = length\n",
    "        self.name = name\n",
    "        self.children = children   "
   ]
  },
  {
   "cell_type": "markdown",
   "metadata": {},
   "source": [
    "Let us make the tree from the slide 16 in the slides \"Evolutionary_Trees.pdf\"."
   ]
  },
  {
   "cell_type": "code",
   "execution_count": 4,
   "metadata": {},
   "outputs": [],
   "source": [
    "leaf_a = Node(length = 0.1, name = \"A\", children = None)\n",
    "leaf_b = Node(length = 0.2, name = \"B\", children = None)\n",
    "leaf_c = Node(length = 0.3, name = \"C\", children = None)\n",
    "leaf_d = Node(length = 0.4, name = \"D\", children = None)\n",
    "node_e = Node(length = 0.5, name = \"E\", children = [leaf_c, leaf_d])\n",
    "node_f = Node(length = None, name = \"F\", children = [leaf_a, leaf_b, node_e])"
   ]
  },
  {
   "cell_type": "markdown",
   "metadata": {},
   "source": [
    "Let us make a function to print out a tree in Newick format."
   ]
  },
  {
   "cell_type": "code",
   "execution_count": 35,
   "metadata": {},
   "outputs": [],
   "source": [
    "def print_newick(r):    \n",
    "    \"\"\"\n",
    "    Print out the tree r in newick format using a depth-first traversal of the tree\n",
    "    \"\"\"\n",
    "    df_print_newick(r)\n",
    "    print(\";\")\n",
    "    \n",
    "def df_print_newick(r):\n",
    "    if r.children != None:\n",
    "        print(\"(\", end=\"\")\n",
    "        for c in r.children[:-1]:\n",
    "            df_print_newick(c)\n",
    "            print(\",\", end=\"\")\n",
    "        df_print_newick(r.children[-1])\n",
    "        print(\")\", end=\"\")\n",
    "    if r.name != None: print(r.name, end=\"\")\n",
    "    if r.length != None: print(\":\", r.length, sep=\"\", end=\"\")"
   ]
  },
  {
   "cell_type": "code",
   "execution_count": 36,
   "metadata": {},
   "outputs": [
    {
     "name": "stdout",
     "output_type": "stream",
     "text": [
      "(A:0.1,B:0.2,(C:0.3,D:0.4)E:0.5)F;\n"
     ]
    }
   ],
   "source": [
    "print_newick(node_f)"
   ]
  },
  {
   "cell_type": "markdown",
   "metadata": {},
   "source": [
    "We can use the BaseTree data structure from the Phylo module in Biopython to represent a tree. You can read about Phylo in https://biopython.org/wiki/Phylo. You can also take a look at chapter 13 in the Biopython tutorial at http://biopython.org/DIST/docs/tutorial/Tutorial.html.\n",
    "\n",
    "The BaseTree data structure in the Phylo module of Biopython is (of course) more advanced than the above simple data struture, but it resembles it. In Phylo terminoly a node is a clade, and a tree contains more information than its node. \n",
    "\n",
    "Here is how to construct the tree from the slide 16 in the slides \"Evolutionary_Trees.pdf\". Compare with how it is done above."
   ]
  },
  {
   "cell_type": "code",
   "execution_count": 20,
   "metadata": {},
   "outputs": [],
   "source": [
    "from Bio import Phylo\n",
    "leaf_a = Phylo.BaseTree.Clade(branch_length = 0.1, name = \"A\")\n",
    "leaf_b = Phylo.BaseTree.Clade(branch_length = 0.2, name = \"B\")\n",
    "leaf_c = Phylo.BaseTree.Clade(branch_length = 0.3, name = \"C\")\n",
    "leaf_d = Phylo.BaseTree.Clade(branch_length = 0.4, name = \"D\")\n",
    "node_e = Phylo.BaseTree.Clade(branch_length = 0.5, name = \"E\", clades = [leaf_c, leaf_d])\n",
    "node_f = Phylo.BaseTree.Clade(name = \"F\", clades = [leaf_a, leaf_b, node_e])\n",
    "tree = Phylo.BaseTree.Tree(root = node_f)"
   ]
  },
  {
   "cell_type": "code",
   "execution_count": 22,
   "metadata": {},
   "outputs": [
    {
     "name": "stdout",
     "output_type": "stream",
     "text": [
      "Tree(rooted=True)\n",
      "    Clade(name='F')\n",
      "        Clade(branch_length=0.1, name='A')\n",
      "        Clade(branch_length=0.2, name='B')\n",
      "        Clade(branch_length=0.5, name='E')\n",
      "            Clade(branch_length=0.3, name='C')\n",
      "            Clade(branch_length=0.4, name='D')\n"
     ]
    }
   ],
   "source": [
    "print(tree)"
   ]
  },
  {
   "cell_type": "markdown",
   "metadata": {},
   "source": [
    "We can make a similar recursive depth first traversal to print out this tree in Newick format. Note that a clade (a node) in Phylo has a method, is_terminal(), that tells us whether the clade/node is a leaf or not."
   ]
  },
  {
   "cell_type": "code",
   "execution_count": 32,
   "metadata": {},
   "outputs": [],
   "source": [
    "def print_newick_biopython(t):    \n",
    "    \"\"\"\n",
    "    Print out the tree r in newick format using a depth-first traversal of the tree\n",
    "    \"\"\"\n",
    "    df_print_newick_biopython(t.clade)\n",
    "    print(\";\")\n",
    "    \n",
    "def df_print_newick_biopython(r):\n",
    "    if r.is_terminal() == False:\n",
    "        print(\"(\", end=\"\")\n",
    "        for c in r.clades[:-1]:\n",
    "            df_print_newick_biopython(c)\n",
    "            print(\",\", end=\"\")\n",
    "        df_print_newick_biopython(r.clades[-1])\n",
    "        print(\")\", end=\"\")\n",
    "    if r.name != None: print(r.name, end=\"\")\n",
    "    if r.branch_length != None: print(\":\", r.branch_length, sep=\"\", end=\"\")"
   ]
  },
  {
   "cell_type": "code",
   "execution_count": 33,
   "metadata": {},
   "outputs": [
    {
     "name": "stdout",
     "output_type": "stream",
     "text": [
      "(A:0.1,B:0.2,(C:0.3,D:0.4)E:0.5)F;\n"
     ]
    }
   ],
   "source": [
    "print_newick_biopython(tree)"
   ]
  },
  {
   "cell_type": "markdown",
   "metadata": {},
   "source": [
    "Phylo supports a lot of functionality, including printing a tree in Newick format. Explore the documentation."
   ]
  },
  {
   "cell_type": "code",
   "execution_count": 35,
   "metadata": {},
   "outputs": [
    {
     "data": {
      "text/plain": [
       "'(A:0.10000,B:0.20000,(C:0.30000,D:0.40000)E:0.50000)F:0.00000;\\n'"
      ]
     },
     "execution_count": 35,
     "metadata": {},
     "output_type": "execute_result"
    }
   ],
   "source": [
    "tree.format(\"newick\")"
   ]
  }
 ],
 "metadata": {
  "kernelspec": {
   "display_name": "Python 3 (ipykernel)",
   "language": "python",
   "name": "python3"
  },
  "language_info": {
   "codemirror_mode": {
    "name": "ipython",
    "version": 3
   },
   "file_extension": ".py",
   "mimetype": "text/x-python",
   "name": "python",
   "nbconvert_exporter": "python",
   "pygments_lexer": "ipython3",
   "version": "3.9.10"
  }
 },
 "nbformat": 4,
 "nbformat_minor": 2
}
